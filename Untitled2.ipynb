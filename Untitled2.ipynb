{
 "cells": [
  {
   "cell_type": "code",
   "execution_count": 57,
   "metadata": {},
   "outputs": [
    {
     "name": "stdout",
     "output_type": "stream",
     "text": [
      "**    ***   \n",
      "**   ***    \n",
      "**  ***     \n",
      "** ***      \n",
      "**  ***     \n",
      "**   ***    \n",
      "**    ***   \n",
      "**     ***  \n",
      "**      *** \n"
     ]
    }
   ],
   "source": [
    "i=0\n",
    "j=4\n",
    "for row in range(9):\n",
    "    for col in range(7):\n",
    "        if col==0:\n",
    "            print(\"**\",end=\" \")\n",
    "        elif((row==i and col==j) and col>0) or (row==col+2 and col>1):\n",
    "            print(\"***\",end=\" \")\n",
    "            i=i+1\n",
    "            j=j-1\n",
    "        else:\n",
    "            print(end=\" \")\n",
    "    print()"
   ]
  },
  {
   "cell_type": "code",
   "execution_count": 45,
   "metadata": {},
   "outputs": [
    {
     "name": "stdout",
     "output_type": "stream",
     "text": [
      "******** \n",
      "**   **\n",
      "**   **\n",
      "**   **\n",
      "**   **\n",
      "**   **\n",
      "******** \n"
     ]
    }
   ],
   "source": [
    "for row in range(7):\n",
    "    for col in range(5):\n",
    "        if (col==0 or (col==4 and (row!=0 and row!=6)) or (row==0 or row ==6) and (col>0 and col<4)):\n",
    "            print(\"**\",end=\"\")\n",
    "        else:\n",
    "            print(end=\" \")\n",
    "    print()"
   ]
  },
  {
   "cell_type": "code",
   "execution_count": 5,
   "metadata": {},
   "outputs": [
    {
     "name": "stdout",
     "output_type": "stream",
     "text": [
      "65\n",
      "40\n",
      "10\n",
      "15\n"
     ]
    }
   ],
   "source": [
    "a=5\n",
    "b=6\n",
    "c=10\n",
    "x=a+(b*c)\n",
    "y=(a*b)+c\n",
    "z=c+(a//b)\n",
    "s=(a%b)+c\n",
    "print(x)\n",
    "print(y)\n",
    "print(z)\n",
    "print(s)"
   ]
  },
  {
   "cell_type": "code",
   "execution_count": 135,
   "metadata": {},
   "outputs": [
    {
     "name": "stdout",
     "output_type": "stream",
     "text": [
      "enter a sentenceani ertu\n",
      "hi utre ina\n"
     ]
    }
   ],
   "source": [
    "x=input(\"enter a sentence\")\n",
    "b=x[::-1]\n",
    "print(\"hi\",b)"
   ]
  },
  {
   "cell_type": "code",
   "execution_count": 2,
   "metadata": {},
   "outputs": [
    {
     "name": "stdout",
     "output_type": "stream",
     "text": [
      "('Carol', 'Bod', 'Alise')\n"
     ]
    }
   ],
   "source": [
    "name = 'Alise','Bod','Carol'\n",
    "length = len(name)\n",
    "a=name[length ::-1]\n",
    "print(a)"
   ]
  },
  {
   "cell_type": "code",
   "execution_count": 18,
   "metadata": {},
   "outputs": [
    {
     "name": "stdout",
     "output_type": "stream",
     "text": [
      "hi ('Carol', 'Bod', 'Alise')\n"
     ]
    }
   ],
   "source": [
    "name = 'Alise','Bod','Carol'\n",
    "a=name[::-1]\n",
    "print(\"hi\",a)"
   ]
  },
  {
   "cell_type": "code",
   "execution_count": 24,
   "metadata": {},
   "outputs": [
    {
     "name": "stdout",
     "output_type": "stream",
     "text": [
      " *****  \n",
      "*       \n",
      "*       \n",
      "*       \n",
      "*       \n",
      "*       \n",
      " *****  \n"
     ]
    }
   ],
   "source": [
    "\n",
    "for row in range (7):\n",
    "    for col in range(8):\n",
    "        if (col==0 and (row!=0 and row!=6)) or ((row==0 or row==6) and (col>0 and col<6)) :\n",
    "            print(\"*\",end='')\n",
    "        else:\n",
    "            print(end=' ')\n",
    "    print()\n",
    "            "
   ]
  },
  {
   "cell_type": "code",
   "execution_count": 20,
   "metadata": {},
   "outputs": [
    {
     "name": "stdout",
     "output_type": "stream",
     "text": [
      "**** \n",
      "*   *\n",
      "*   *\n",
      "**** \n",
      "*   *\n",
      "*   *\n",
      "**** \n"
     ]
    }
   ],
   "source": [
    "for row in range (7):\n",
    "    for col in range(5):\n",
    "        if col==0 or (col==4 and (row!=0 and row!=3 and row!=6)) or ((row==0 or row==3 or row==6) and (col>0 and col<4)):\n",
    "            print(\"*\",end='')\n",
    "        else:\n",
    "            print(end=' ')\n",
    "    print()"
   ]
  },
  {
   "cell_type": "code",
   "execution_count": null,
   "metadata": {},
   "outputs": [],
   "source": [
    "for row in range"
   ]
  },
  {
   "cell_type": "code",
   "execution_count": 16,
   "metadata": {},
   "outputs": [
    {
     "name": "stdout",
     "output_type": "stream",
     "text": [
      "**     ***      \n",
      "**    ***       \n",
      "**   ***        \n",
      "**  ***         \n",
      "** ***          \n",
      "**  ***         \n",
      "**   ***        \n",
      "**    ***       \n",
      "**     ***      \n",
      "**********     \n",
      "**         **   \n",
      "**          **  \n",
      "**           ** \n",
      "**           ** \n",
      "**           ** \n",
      "**          **  \n",
      "**         **   \n",
      "**********     \n",
      "*   * *\n",
      "*  ** *\n",
      "* *  **\n",
      "**    *\n"
     ]
    }
   ],
   "source": [
    "i=0\n",
    "j=6\n",
    "for row in range (9):\n",
    "    for col in range (13):\n",
    "        if col==0:\n",
    "            print(\"**\",end=\"\")\n",
    "        elif row==col+2 and col>1:\n",
    "            print(\"***\",end=\"\")\n",
    "        elif ((row==i and col==j) and col>0):\n",
    "            print(\"***\",end=\"\")\n",
    "            i=i+1\n",
    "            j=j-1\n",
    "        else:\n",
    "            print(end=\" \")\n",
    "    print() \n",
    "\n",
    "k=1\n",
    "l=10\n",
    "n=12\n",
    "p=5\n",
    "for row in range(9):\n",
    "    for col in range(14):\n",
    "        if col==0:\n",
    "            print(\"**\",end=\"\")\n",
    "        elif((row==0 or row==8) and (col==2 or col<9)):\n",
    "            print(\"*\",end=\"\")\n",
    "        elif(row==k and col==l and col<13):\n",
    "            print(\"**\",end=\"\")\n",
    "            k=k+1\n",
    "            l=l+1\n",
    "        elif(row==4 and col==12):\n",
    "            print(\"**\",end=\"\")\n",
    "        elif(row==p and col==n and col>9):\n",
    "            print(\"**\",end=\"\")\n",
    "            p=p+1\n",
    "            n=n-1\n",
    "        else:\n",
    "            print(end=\" \")\n",
    "    print()\n",
    "i=0\n",
    "j=4\n",
    "    \n",
    "for row in range(4):\n",
    "    for col in range(7):\n",
    "        if col==0 or col==6:\n",
    "            print(\"*\",end=\"\")\n",
    "        elif (col==5 and row==2) or (col==4 and row==1):\n",
    "            print(\"*\",end=\"\")\n",
    "        elif ((row==i and col==j) and col>0):\n",
    "            print(\"*\",end=\"\")\n",
    "            i=i+1\n",
    "            j=j-1\n",
    "        else:\n",
    "            print(\"\",end=\" \")\n",
    "    print()\n",
    "    "
   ]
  },
  {
   "cell_type": "code",
   "execution_count": 12,
   "metadata": {},
   "outputs": [
    {
     "name": "stdout",
     "output_type": "stream",
     "text": [
      "**********     \n",
      "**         **   \n",
      "**          **  \n",
      "**           ** \n",
      "**           ** \n",
      "**           ** \n",
      "**          **  \n",
      "**         **   \n",
      "**********     \n"
     ]
    }
   ],
   "source": [
    "k=1\n",
    "l=10\n",
    "n=12\n",
    "p=5\n",
    "for row in range(9):\n",
    "    for col in range(14):\n",
    "        if col==0:\n",
    "            print(\"**\",end=\"\")\n",
    "        elif((row==0 or row==8) and (col==2 or col<9)):\n",
    "            print(\"*\",end=\"\")\n",
    "        elif(row==k and col==l and col<13):\n",
    "            print(\"**\",end=\"\")\n",
    "            k=k+1\n",
    "            l=l+1\n",
    "        elif(row==4 and col==12):\n",
    "            print(\"**\",end=\"\")\n",
    "        elif(row==p and col==n and col>9):\n",
    "            print(\"**\",end=\"\")\n",
    "            p=p+1\n",
    "            n=n-1\n",
    "        else:\n",
    "            print(end=\" \")\n",
    "    print()"
   ]
  },
  {
   "cell_type": "code",
   "execution_count": 36,
   "metadata": {},
   "outputs": [
    {
     "name": "stdout",
     "output_type": "stream",
     "text": [
      "*  *  *\n",
      "* * * *\n",
      "**   **\n",
      "*     *\n"
     ]
    }
   ],
   "source": [
    "i=0\n",
    "j=3 \n",
    "for row in range(4):\n",
    "    for col in range(7):\n",
    "        if col==0 or col==6 or (col==5 and row==2) or (col==4 and row==1):\n",
    "            print(\"*\",end=\"\")\n",
    "        elif (row==i and col==j):\n",
    "            print(\"*\",end=\"\")\n",
    "            i=i+1\n",
    "            j=j-1\n",
    "        else:\n",
    "            print(end=\" \")\n",
    "    print()"
   ]
  },
  {
   "cell_type": "code",
   "execution_count": 2,
   "metadata": {},
   "outputs": [
    {
     "name": "stdout",
     "output_type": "stream",
     "text": [
      "day3\n",
      "month3\n",
      "false\n"
     ]
    }
   ],
   "source": [
    "\n",
    "\n",
    "#yy=int(input(\"enter year:\"))\n",
    "dd=int(input(\"day\"))\n",
    "mm=int(input(\"month\"))\n",
    "if (mm==3 and dd>=20):\n",
    "     print('true')\n",
    "elif(mm>3 and mm<6) and dd>0:\n",
    "    print('true')\n",
    "elif(mm==6 and d<21):\n",
    "    print('true')\n",
    "else:\n",
    "     print('false')\n"
   ]
  },
  {
   "cell_type": "code",
   "execution_count": 56,
   "metadata": {},
   "outputs": [
    {
     "name": "stdout",
     "output_type": "stream",
     "text": [
      "enter a year1800\n",
      "not leap year\n"
     ]
    }
   ],
   "source": [
    "year=int(input('enter a year'))\n",
    "if((year%4))==0:\n",
    "    if((year%100))==0:\n",
    "        if((year%400))==0:\n",
    "            print('leap year')\n",
    "        else:\n",
    "            print('not leap year')\n",
    "    else:\n",
    "        print('leap year')\n",
    "else:\n",
    "    print('not leap year')"
   ]
  },
  {
   "cell_type": "code",
   "execution_count": 19,
   "metadata": {},
   "outputs": [
    {
     "name": "stdout",
     "output_type": "stream",
     "text": [
      "input month4\n",
      "day6\n",
      "season is  summer\n"
     ]
    }
   ],
   "source": [
    "month= input(\"input month\")\n",
    "day=int(input(\"day\"))\n",
    "\n",
    "if month in ('jan', 'feb','mar'):\n",
    "    season='winter'\n",
    "elif month in ('april','may','june'):\n",
    "    season='spring'\n",
    "else:\n",
    "    season='summer'\n",
    "    \n",
    "if (month=='mar') and (day>19):\n",
    "    season='spring'\n",
    "elif (month=='june') and (day>21):\n",
    "    season='summer'\n",
    "print(\"season is \", season)"
   ]
  },
  {
   "cell_type": "code",
   "execution_count": 31,
   "metadata": {},
   "outputs": [
    {
     "name": "stdout",
     "output_type": "stream",
     "text": [
      "enteralis\n",
      "enterbod\n",
      "entercarol\n",
      "hi carol bod alis\n"
     ]
    }
   ],
   "source": [
    "name1=input(\"enter\")\n",
    "name2=input(\"enter\")\n",
    "name3=input(\"enter\")\n",
    "print(\"hi\", name3,name2,name1)"
   ]
  },
  {
   "cell_type": "code",
   "execution_count": 8,
   "metadata": {},
   "outputs": [
    {
     "name": "stdout",
     "output_type": "stream",
     "text": [
      "namealis bod acraol\n",
      "acraol bod alis\n"
     ]
    }
   ],
   "source": [
    "sentence =input('name')\n",
    "words = sentence.split()  \n",
    "sentence_rev = \" \".join(reversed(words))\n",
    "print (sentence_rev)"
   ]
  },
  {
   "cell_type": "code",
   "execution_count": 15,
   "metadata": {},
   "outputs": [
    {
     "name": "stdout",
     "output_type": "stream",
     "text": [
      "namesalis bd carol\n",
      "carol bd alis\n"
     ]
    }
   ],
   "source": [
    "a = input(\"names\")\n",
    "split = a.split()\n",
    "\n",
    "res = []\n",
    "x = len(split) - 1\n",
    "while x >= 0:\n",
    "    res.append(split[x])\n",
    "    x = x-1\n",
    "\n",
    "result=\" \".join(res)\n",
    "print (result) "
   ]
  },
  {
   "cell_type": "code",
   "execution_count": 136,
   "metadata": {},
   "outputs": [
    {
     "name": "stdout",
     "output_type": "stream",
     "text": [
      "namescaol alis bob\n",
      "hi bob alis caol\n"
     ]
    }
   ],
   "source": [
    "x=input(\"names\")\n",
    "print(\"hi\",' '.join(x.split()[::-1]))"
   ]
  },
  {
   "cell_type": "code",
   "execution_count": 55,
   "metadata": {},
   "outputs": [
    {
     "name": "stdout",
     "output_type": "stream",
     "text": [
      "**********\n",
      "**    \n",
      "**    \n",
      "**    \n",
      "**    \n",
      "**    \n",
      "**********\n"
     ]
    }
   ],
   "source": [
    "for row in range(7):\n",
    "    for col in range(5):\n",
    "        if col==0:\n",
    "            print(\"**\",end='')\n",
    "        elif (row==0 or row==6):\n",
    "            print(\"**\",end='')\n",
    "        else:\n",
    "            print(end=' ')\n",
    "    print()"
   ]
  },
  {
   "cell_type": "code",
   "execution_count": 43,
   "metadata": {},
   "outputs": [
    {
     "name": "stdout",
     "output_type": "stream",
     "text": [
      "**   **\n",
      "**   **\n",
      "**   **\n",
      "*******\n",
      "**   **\n",
      "**   **\n",
      "**   **\n"
     ]
    }
   ],
   "source": [
    "for row in range(7):\n",
    "    for col in range(5):\n",
    "        if col==0 or col==4:\n",
    "            print(\"**\",end='')\n",
    "        elif row==3:\n",
    "            print(\"*\",end='')\n",
    "        else:\n",
    "            print(end=' ')\n",
    "    print()"
   ]
  },
  {
   "cell_type": "code",
   "execution_count": 6,
   "metadata": {},
   "outputs": [
    {
     "name": "stdout",
     "output_type": "stream",
     "text": [
      "Help on built-in module cmath:\n",
      "\n",
      "NAME\n",
      "    cmath\n",
      "\n",
      "DESCRIPTION\n",
      "    This module provides access to mathematical functions for complex\n",
      "    numbers.\n",
      "\n",
      "FUNCTIONS\n",
      "    acos(z, /)\n",
      "        Return the arc cosine of z.\n",
      "    \n",
      "    acosh(z, /)\n",
      "        Return the inverse hyperbolic cosine of z.\n",
      "    \n",
      "    asin(z, /)\n",
      "        Return the arc sine of z.\n",
      "    \n",
      "    asinh(z, /)\n",
      "        Return the inverse hyperbolic sine of z.\n",
      "    \n",
      "    atan(z, /)\n",
      "        Return the arc tangent of z.\n",
      "    \n",
      "    atanh(z, /)\n",
      "        Return the inverse hyperbolic tangent of z.\n",
      "    \n",
      "    cos(z, /)\n",
      "        Return the cosine of z.\n",
      "    \n",
      "    cosh(z, /)\n",
      "        Return the hyperbolic cosine of z.\n",
      "    \n",
      "    exp(z, /)\n",
      "        Return the exponential value e**z.\n",
      "    \n",
      "    isclose(a, b, *, rel_tol=1e-09, abs_tol=0.0)\n",
      "        Determine whether two complex numbers are close in value.\n",
      "        \n",
      "          rel_tol\n",
      "            maximum difference for being considered \"close\", relative to the\n",
      "            magnitude of the input values\n",
      "          abs_tol\n",
      "            maximum difference for being considered \"close\", regardless of the\n",
      "            magnitude of the input values\n",
      "        \n",
      "        Return True if a is close in value to b, and False otherwise.\n",
      "        \n",
      "        For the values to be considered close, the difference between them must be\n",
      "        smaller than at least one of the tolerances.\n",
      "        \n",
      "        -inf, inf and NaN behave similarly to the IEEE 754 Standard. That is, NaN is\n",
      "        not close to anything, even itself. inf and -inf are only close to themselves.\n",
      "    \n",
      "    isfinite(z, /)\n",
      "        Return True if both the real and imaginary parts of z are finite, else False.\n",
      "    \n",
      "    isinf(z, /)\n",
      "        Checks if the real or imaginary part of z is infinite.\n",
      "    \n",
      "    isnan(z, /)\n",
      "        Checks if the real or imaginary part of z not a number (NaN).\n",
      "    \n",
      "    log(x, y_obj=None, /)\n",
      "        The logarithm of z to the given base.\n",
      "        \n",
      "        If the base not specified, returns the natural logarithm (base e) of z.\n",
      "    \n",
      "    log10(z, /)\n",
      "        Return the base-10 logarithm of z.\n",
      "    \n",
      "    phase(z, /)\n",
      "        Return argument, also known as the phase angle, of a complex.\n",
      "    \n",
      "    polar(z, /)\n",
      "        Convert a complex from rectangular coordinates to polar coordinates.\n",
      "        \n",
      "        r is the distance from 0 and phi the phase angle.\n",
      "    \n",
      "    rect(r, phi, /)\n",
      "        Convert from polar coordinates to rectangular coordinates.\n",
      "    \n",
      "    sin(z, /)\n",
      "        Return the sine of z.\n",
      "    \n",
      "    sinh(z, /)\n",
      "        Return the hyperbolic sine of z.\n",
      "    \n",
      "    sqrt(z, /)\n",
      "        Return the square root of z.\n",
      "    \n",
      "    tan(z, /)\n",
      "        Return the tangent of z.\n",
      "    \n",
      "    tanh(z, /)\n",
      "        Return the hyperbolic tangent of z.\n",
      "\n",
      "DATA\n",
      "    e = 2.718281828459045\n",
      "    inf = inf\n",
      "    infj = infj\n",
      "    nan = nan\n",
      "    nanj = nanj\n",
      "    pi = 3.141592653589793\n",
      "    tau = 6.283185307179586\n",
      "\n",
      "FILE\n",
      "    (built-in)\n",
      "\n",
      "\n"
     ]
    }
   ],
   "source": [
    "import cmath\n",
    "help(cmath)"
   ]
  },
  {
   "cell_type": "code",
   "execution_count": 12,
   "metadata": {},
   "outputs": [
    {
     "name": "stdout",
     "output_type": "stream",
     "text": [
      "enter a2\n",
      "enter b3\n",
      "enter c4\n",
      "-3.625\n",
      "2.125\n"
     ]
    }
   ],
   "source": [
    "a=float(input(\"enter a\"))\n",
    "b=float(input(\"enter b\"))\n",
    "c=float(input(\"enter c\"))\n",
    "delta=(b*b-4*a*c)**1/2\n",
    "root1=(-b+(delta))/(2*a)\n",
    "root2=(-b-(delta))/(2*a)\n",
    "print(root1)\n",
    "print(root2)"
   ]
  },
  {
   "cell_type": "code",
   "execution_count": 23,
   "metadata": {},
   "outputs": [
    {
     "name": "stdout",
     "output_type": "stream",
     "text": [
      "3\n",
      "4\n",
      "5.0\n"
     ]
    }
   ],
   "source": [
    "import math\n",
    "from math import *\n",
    "x=int(input(\"\"))\n",
    "y=int(input(\"\"))\n",
    "a=pow(x,2)\n",
    "b=pow(y,2)\n",
    "res=a+b\n",
    "d=sqrt(res)\n",
    "print(d)"
   ]
  },
  {
   "cell_type": "code",
   "execution_count": 12,
   "metadata": {},
   "outputs": [
    {
     "name": "stdout",
     "output_type": "stream",
     "text": [
      "n : 10\n",
      "2 to the power of n is  1024\n",
      "leap year\n"
     ]
    }
   ],
   "source": [
    "n=int(input(\"n : \"))\n",
    "#for i in range (n):\n",
    "x=2**n\n",
    "print(\"2 to the power of n is \",x)\n",
    "if ((x%400==0) or (( x%4==0) and (x%100!=0))):\n",
    "    print(\"leap year\")\n",
    "else:\n",
    "    print(\"not leap year\")"
   ]
  },
  {
   "cell_type": "code",
   "execution_count": null,
   "metadata": {},
   "outputs": [],
   "source": [
    "year = int(input(\"Please Enter the Year Number you wish: \"))\n",
    "\n",
    "if (( year%400 == 0)or (( year%4 == 0 ) and ( year%100 != 0))):\n",
    "    print(\"%d is a Leap Year\" %year)\n",
    "else:\n",
    "    print(\"%d is Not the Leap Year\" %year)"
   ]
  },
  {
   "cell_type": "code",
   "execution_count": 8,
   "metadata": {},
   "outputs": [
    {
     "name": "stdout",
     "output_type": "stream",
     "text": [
      "n4\n",
      "0\n",
      "1\n",
      "4\n",
      "9\n"
     ]
    }
   ],
   "source": [
    "n=int(input(\"n\"))\n",
    "for i in range(n+1):\n",
    "    x=i**2\n",
    "    if x<2**n:\n",
    "        print(x)"
   ]
  },
  {
   "cell_type": "code",
   "execution_count": 24,
   "metadata": {},
   "outputs": [
    {
     "name": "stdout",
     "output_type": "stream",
     "text": [
      "monthly payments2\n",
      "years3\n",
      "amount4\n",
      "0.0590479700136861\n"
     ]
    }
   ],
   "source": [
    "P=float(input(\"monthly payments\"))\n",
    "Y=int(input(\"years\"))\n",
    "R=float(input(\"amount\"))\n",
    "n=12*Y\n",
    "r=R/(12*100)\n",
    "x=(1+r)**(-n)\n",
    "payment=P*r/(1-x)\n",
    "print(payment)"
   ]
  },
  {
   "cell_type": "code",
   "execution_count": 31,
   "metadata": {},
   "outputs": [
    {
     "name": "stdout",
     "output_type": "stream",
     "text": [
      "no of times coin fliped100\n",
      "46.0\n",
      "54.0\n"
     ]
    }
   ],
   "source": [
    "import random\n",
    "heads=0\n",
    "tails=0\n",
    "n=int(input(\"no of times coin fliped\"))\n",
    "for i in range(n):\n",
    "    x=random.randint(1,2)\n",
    "    if x==1:\n",
    "        heads+=1\n",
    "    else:\n",
    "        tails+=1\n",
    "    headspercent=(heads/n)*100\n",
    "    tailspercent=100-headspercent\n",
    "    \n",
    "print(headspercent)\n",
    "print(tailspercent)"
   ]
  },
  {
   "cell_type": "code",
   "execution_count": 212,
   "metadata": {},
   "outputs": [
    {
     "name": "stdout",
     "output_type": "stream",
     "text": [
      "angle:30\n",
      "range of n:7\n",
      "64.96119176445467\n",
      "13.346566274171812\n"
     ]
    }
   ],
   "source": [
    "##taylors series\n",
    "import math\n",
    "from math import*\n",
    "sin=0\n",
    "cos=0\n",
    "x=float(input(\"angle:\"))\n",
    "n=int(input(\"range of n:\"))\n",
    "x=x%(2*math.pi)\n",
    "sign=(-1)**i\n",
    "for i in range(n):\n",
    "    sin=sin+(sign*(x**(2*i+1)))/math.factorial(2*i+1)\n",
    "    cos=cos+(sign*(x**(2*i)))/math.factorial(2*i+1)\n",
    "print(sin)\n",
    "print(cos)"
   ]
  },
  {
   "cell_type": "code",
   "execution_count": null,
   "metadata": {},
   "outputs": [],
   "source": [
    "c=int(input(\"enter value c:\"))\n",
    "t=c\n",
    "tavg=(c/t+t)/2\n",
    "t=tavg\n"
   ]
  },
  {
   "cell_type": "code",
   "execution_count": 32,
   "metadata": {},
   "outputs": [
    {
     "name": "stdout",
     "output_type": "stream",
     "text": [
      "Help on built-in module math:\n",
      "\n",
      "NAME\n",
      "    math\n",
      "\n",
      "DESCRIPTION\n",
      "    This module provides access to the mathematical functions\n",
      "    defined by the C standard.\n",
      "\n",
      "FUNCTIONS\n",
      "    acos(x, /)\n",
      "        Return the arc cosine (measured in radians) of x.\n",
      "    \n",
      "    acosh(x, /)\n",
      "        Return the inverse hyperbolic cosine of x.\n",
      "    \n",
      "    asin(x, /)\n",
      "        Return the arc sine (measured in radians) of x.\n",
      "    \n",
      "    asinh(x, /)\n",
      "        Return the inverse hyperbolic sine of x.\n",
      "    \n",
      "    atan(x, /)\n",
      "        Return the arc tangent (measured in radians) of x.\n",
      "    \n",
      "    atan2(y, x, /)\n",
      "        Return the arc tangent (measured in radians) of y/x.\n",
      "        \n",
      "        Unlike atan(y/x), the signs of both x and y are considered.\n",
      "    \n",
      "    atanh(x, /)\n",
      "        Return the inverse hyperbolic tangent of x.\n",
      "    \n",
      "    ceil(x, /)\n",
      "        Return the ceiling of x as an Integral.\n",
      "        \n",
      "        This is the smallest integer >= x.\n",
      "    \n",
      "    copysign(x, y, /)\n",
      "        Return a float with the magnitude (absolute value) of x but the sign of y.\n",
      "        \n",
      "        On platforms that support signed zeros, copysign(1.0, -0.0)\n",
      "        returns -1.0.\n",
      "    \n",
      "    cos(x, /)\n",
      "        Return the cosine of x (measured in radians).\n",
      "    \n",
      "    cosh(x, /)\n",
      "        Return the hyperbolic cosine of x.\n",
      "    \n",
      "    degrees(x, /)\n",
      "        Convert angle x from radians to degrees.\n",
      "    \n",
      "    erf(x, /)\n",
      "        Error function at x.\n",
      "    \n",
      "    erfc(x, /)\n",
      "        Complementary error function at x.\n",
      "    \n",
      "    exp(x, /)\n",
      "        Return e raised to the power of x.\n",
      "    \n",
      "    expm1(x, /)\n",
      "        Return exp(x)-1.\n",
      "        \n",
      "        This function avoids the loss of precision involved in the direct evaluation of exp(x)-1 for small x.\n",
      "    \n",
      "    fabs(x, /)\n",
      "        Return the absolute value of the float x.\n",
      "    \n",
      "    factorial(x, /)\n",
      "        Find x!.\n",
      "        \n",
      "        Raise a ValueError if x is negative or non-integral.\n",
      "    \n",
      "    floor(x, /)\n",
      "        Return the floor of x as an Integral.\n",
      "        \n",
      "        This is the largest integer <= x.\n",
      "    \n",
      "    fmod(x, y, /)\n",
      "        Return fmod(x, y), according to platform C.\n",
      "        \n",
      "        x % y may differ.\n",
      "    \n",
      "    frexp(x, /)\n",
      "        Return the mantissa and exponent of x, as pair (m, e).\n",
      "        \n",
      "        m is a float and e is an int, such that x = m * 2.**e.\n",
      "        If x is 0, m and e are both 0.  Else 0.5 <= abs(m) < 1.0.\n",
      "    \n",
      "    fsum(seq, /)\n",
      "        Return an accurate floating point sum of values in the iterable seq.\n",
      "        \n",
      "        Assumes IEEE-754 floating point arithmetic.\n",
      "    \n",
      "    gamma(x, /)\n",
      "        Gamma function at x.\n",
      "    \n",
      "    gcd(x, y, /)\n",
      "        greatest common divisor of x and y\n",
      "    \n",
      "    hypot(x, y, /)\n",
      "        Return the Euclidean distance, sqrt(x*x + y*y).\n",
      "    \n",
      "    isclose(a, b, *, rel_tol=1e-09, abs_tol=0.0)\n",
      "        Determine whether two floating point numbers are close in value.\n",
      "        \n",
      "          rel_tol\n",
      "            maximum difference for being considered \"close\", relative to the\n",
      "            magnitude of the input values\n",
      "          abs_tol\n",
      "            maximum difference for being considered \"close\", regardless of the\n",
      "            magnitude of the input values\n",
      "        \n",
      "        Return True if a is close in value to b, and False otherwise.\n",
      "        \n",
      "        For the values to be considered close, the difference between them\n",
      "        must be smaller than at least one of the tolerances.\n",
      "        \n",
      "        -inf, inf and NaN behave similarly to the IEEE 754 Standard.  That\n",
      "        is, NaN is not close to anything, even itself.  inf and -inf are\n",
      "        only close to themselves.\n",
      "    \n",
      "    isfinite(x, /)\n",
      "        Return True if x is neither an infinity nor a NaN, and False otherwise.\n",
      "    \n",
      "    isinf(x, /)\n",
      "        Return True if x is a positive or negative infinity, and False otherwise.\n",
      "    \n",
      "    isnan(x, /)\n",
      "        Return True if x is a NaN (not a number), and False otherwise.\n",
      "    \n",
      "    ldexp(x, i, /)\n",
      "        Return x * (2**i).\n",
      "        \n",
      "        This is essentially the inverse of frexp().\n",
      "    \n",
      "    lgamma(x, /)\n",
      "        Natural logarithm of absolute value of Gamma function at x.\n",
      "    \n",
      "    log(...)\n",
      "        log(x, [base=math.e])\n",
      "        Return the logarithm of x to the given base.\n",
      "        \n",
      "        If the base not specified, returns the natural logarithm (base e) of x.\n",
      "    \n",
      "    log10(x, /)\n",
      "        Return the base 10 logarithm of x.\n",
      "    \n",
      "    log1p(x, /)\n",
      "        Return the natural logarithm of 1+x (base e).\n",
      "        \n",
      "        The result is computed in a way which is accurate for x near zero.\n",
      "    \n",
      "    log2(x, /)\n",
      "        Return the base 2 logarithm of x.\n",
      "    \n",
      "    modf(x, /)\n",
      "        Return the fractional and integer parts of x.\n",
      "        \n",
      "        Both results carry the sign of x and are floats.\n",
      "    \n",
      "    pow(x, y, /)\n",
      "        Return x**y (x to the power of y).\n",
      "    \n",
      "    radians(x, /)\n",
      "        Convert angle x from degrees to radians.\n",
      "    \n",
      "    remainder(x, y, /)\n",
      "        Difference between x and the closest integer multiple of y.\n",
      "        \n",
      "        Return x - n*y where n*y is the closest integer multiple of y.\n",
      "        In the case where x is exactly halfway between two multiples of\n",
      "        y, the nearest even value of n is used. The result is always exact.\n",
      "    \n",
      "    sin(x, /)\n",
      "        Return the sine of x (measured in radians).\n",
      "    \n",
      "    sinh(x, /)\n",
      "        Return the hyperbolic sine of x.\n",
      "    \n",
      "    sqrt(x, /)\n",
      "        Return the square root of x.\n",
      "    \n",
      "    tan(x, /)\n",
      "        Return the tangent of x (measured in radians).\n",
      "    \n",
      "    tanh(x, /)\n",
      "        Return the hyperbolic tangent of x.\n",
      "    \n",
      "    trunc(x, /)\n",
      "        Truncates the Real x to the nearest Integral toward 0.\n",
      "        \n",
      "        Uses the __trunc__ magic method.\n",
      "\n",
      "DATA\n",
      "    e = 2.718281828459045\n",
      "    inf = inf\n",
      "    nan = nan\n",
      "    pi = 3.141592653589793\n",
      "    tau = 6.283185307179586\n",
      "\n",
      "FILE\n",
      "    (built-in)\n",
      "\n",
      "\n"
     ]
    }
   ],
   "source": [
    "help(math)"
   ]
  },
  {
   "cell_type": "code",
   "execution_count": 34,
   "metadata": {},
   "outputs": [
    {
     "name": "stdout",
     "output_type": "stream",
     "text": [
      "Help on module statistics:\n",
      "\n",
      "NAME\n",
      "    statistics - Basic statistics module.\n",
      "\n",
      "DESCRIPTION\n",
      "    This module provides functions for calculating statistics of data, including\n",
      "    averages, variance, and standard deviation.\n",
      "    \n",
      "    Calculating averages\n",
      "    --------------------\n",
      "    \n",
      "    ==================  =============================================\n",
      "    Function            Description\n",
      "    ==================  =============================================\n",
      "    mean                Arithmetic mean (average) of data.\n",
      "    harmonic_mean       Harmonic mean of data.\n",
      "    median              Median (middle value) of data.\n",
      "    median_low          Low median of data.\n",
      "    median_high         High median of data.\n",
      "    median_grouped      Median, or 50th percentile, of grouped data.\n",
      "    mode                Mode (most common value) of data.\n",
      "    ==================  =============================================\n",
      "    \n",
      "    Calculate the arithmetic mean (\"the average\") of data:\n",
      "    \n",
      "    >>> mean([-1.0, 2.5, 3.25, 5.75])\n",
      "    2.625\n",
      "    \n",
      "    \n",
      "    Calculate the standard median of discrete data:\n",
      "    \n",
      "    >>> median([2, 3, 4, 5])\n",
      "    3.5\n",
      "    \n",
      "    \n",
      "    Calculate the median, or 50th percentile, of data grouped into class intervals\n",
      "    centred on the data values provided. E.g. if your data points are rounded to\n",
      "    the nearest whole number:\n",
      "    \n",
      "    >>> median_grouped([2, 2, 3, 3, 3, 4])  #doctest: +ELLIPSIS\n",
      "    2.8333333333...\n",
      "    \n",
      "    This should be interpreted in this way: you have two data points in the class\n",
      "    interval 1.5-2.5, three data points in the class interval 2.5-3.5, and one in\n",
      "    the class interval 3.5-4.5. The median of these data points is 2.8333...\n",
      "    \n",
      "    \n",
      "    Calculating variability or spread\n",
      "    ---------------------------------\n",
      "    \n",
      "    ==================  =============================================\n",
      "    Function            Description\n",
      "    ==================  =============================================\n",
      "    pvariance           Population variance of data.\n",
      "    variance            Sample variance of data.\n",
      "    pstdev              Population standard deviation of data.\n",
      "    stdev               Sample standard deviation of data.\n",
      "    ==================  =============================================\n",
      "    \n",
      "    Calculate the standard deviation of sample data:\n",
      "    \n",
      "    >>> stdev([2.5, 3.25, 5.5, 11.25, 11.75])  #doctest: +ELLIPSIS\n",
      "    4.38961843444...\n",
      "    \n",
      "    If you have previously calculated the mean, you can pass it as the optional\n",
      "    second argument to the four \"spread\" functions to avoid recalculating it:\n",
      "    \n",
      "    >>> data = [1, 2, 2, 4, 4, 4, 5, 6]\n",
      "    >>> mu = mean(data)\n",
      "    >>> pvariance(data, mu)\n",
      "    2.5\n",
      "    \n",
      "    \n",
      "    Exceptions\n",
      "    ----------\n",
      "    \n",
      "    A single exception is defined: StatisticsError is a subclass of ValueError.\n",
      "\n",
      "CLASSES\n",
      "    builtins.ValueError(builtins.Exception)\n",
      "        StatisticsError\n",
      "    \n",
      "    class StatisticsError(builtins.ValueError)\n",
      "     |  Inappropriate argument value (of correct type).\n",
      "     |  \n",
      "     |  Method resolution order:\n",
      "     |      StatisticsError\n",
      "     |      builtins.ValueError\n",
      "     |      builtins.Exception\n",
      "     |      builtins.BaseException\n",
      "     |      builtins.object\n",
      "     |  \n",
      "     |  Data descriptors defined here:\n",
      "     |  \n",
      "     |  __weakref__\n",
      "     |      list of weak references to the object (if defined)\n",
      "     |  \n",
      "     |  ----------------------------------------------------------------------\n",
      "     |  Methods inherited from builtins.ValueError:\n",
      "     |  \n",
      "     |  __init__(self, /, *args, **kwargs)\n",
      "     |      Initialize self.  See help(type(self)) for accurate signature.\n",
      "     |  \n",
      "     |  ----------------------------------------------------------------------\n",
      "     |  Static methods inherited from builtins.ValueError:\n",
      "     |  \n",
      "     |  __new__(*args, **kwargs) from builtins.type\n",
      "     |      Create and return a new object.  See help(type) for accurate signature.\n",
      "     |  \n",
      "     |  ----------------------------------------------------------------------\n",
      "     |  Methods inherited from builtins.BaseException:\n",
      "     |  \n",
      "     |  __delattr__(self, name, /)\n",
      "     |      Implement delattr(self, name).\n",
      "     |  \n",
      "     |  __getattribute__(self, name, /)\n",
      "     |      Return getattr(self, name).\n",
      "     |  \n",
      "     |  __reduce__(...)\n",
      "     |      Helper for pickle.\n",
      "     |  \n",
      "     |  __repr__(self, /)\n",
      "     |      Return repr(self).\n",
      "     |  \n",
      "     |  __setattr__(self, name, value, /)\n",
      "     |      Implement setattr(self, name, value).\n",
      "     |  \n",
      "     |  __setstate__(...)\n",
      "     |  \n",
      "     |  __str__(self, /)\n",
      "     |      Return str(self).\n",
      "     |  \n",
      "     |  with_traceback(...)\n",
      "     |      Exception.with_traceback(tb) --\n",
      "     |      set self.__traceback__ to tb and return self.\n",
      "     |  \n",
      "     |  ----------------------------------------------------------------------\n",
      "     |  Data descriptors inherited from builtins.BaseException:\n",
      "     |  \n",
      "     |  __cause__\n",
      "     |      exception cause\n",
      "     |  \n",
      "     |  __context__\n",
      "     |      exception context\n",
      "     |  \n",
      "     |  __dict__\n",
      "     |  \n",
      "     |  __suppress_context__\n",
      "     |  \n",
      "     |  __traceback__\n",
      "     |  \n",
      "     |  args\n",
      "\n",
      "FUNCTIONS\n",
      "    harmonic_mean(data)\n",
      "        Return the harmonic mean of data.\n",
      "        \n",
      "        The harmonic mean, sometimes called the subcontrary mean, is the\n",
      "        reciprocal of the arithmetic mean of the reciprocals of the data,\n",
      "        and is often appropriate when averaging quantities which are rates\n",
      "        or ratios, for example speeds. Example:\n",
      "        \n",
      "        Suppose an investor purchases an equal value of shares in each of\n",
      "        three companies, with P/E (price/earning) ratios of 2.5, 3 and 10.\n",
      "        What is the average P/E ratio for the investor's portfolio?\n",
      "        \n",
      "        >>> harmonic_mean([2.5, 3, 10])  # For an equal investment portfolio.\n",
      "        3.6\n",
      "        \n",
      "        Using the arithmetic mean would give an average of about 5.167, which\n",
      "        is too high.\n",
      "        \n",
      "        If ``data`` is empty, or any element is less than zero,\n",
      "        ``harmonic_mean`` will raise ``StatisticsError``.\n",
      "    \n",
      "    mean(data)\n",
      "        Return the sample arithmetic mean of data.\n",
      "        \n",
      "        >>> mean([1, 2, 3, 4, 4])\n",
      "        2.8\n",
      "        \n",
      "        >>> from fractions import Fraction as F\n",
      "        >>> mean([F(3, 7), F(1, 21), F(5, 3), F(1, 3)])\n",
      "        Fraction(13, 21)\n",
      "        \n",
      "        >>> from decimal import Decimal as D\n",
      "        >>> mean([D(\"0.5\"), D(\"0.75\"), D(\"0.625\"), D(\"0.375\")])\n",
      "        Decimal('0.5625')\n",
      "        \n",
      "        If ``data`` is empty, StatisticsError will be raised.\n",
      "    \n",
      "    median(data)\n",
      "        Return the median (middle value) of numeric data.\n",
      "        \n",
      "        When the number of data points is odd, return the middle data point.\n",
      "        When the number of data points is even, the median is interpolated by\n",
      "        taking the average of the two middle values:\n",
      "        \n",
      "        >>> median([1, 3, 5])\n",
      "        3\n",
      "        >>> median([1, 3, 5, 7])\n",
      "        4.0\n",
      "    \n",
      "    median_grouped(data, interval=1)\n",
      "        Return the 50th percentile (median) of grouped continuous data.\n",
      "        \n",
      "        >>> median_grouped([1, 2, 2, 3, 4, 4, 4, 4, 4, 5])\n",
      "        3.7\n",
      "        >>> median_grouped([52, 52, 53, 54])\n",
      "        52.5\n",
      "        \n",
      "        This calculates the median as the 50th percentile, and should be\n",
      "        used when your data is continuous and grouped. In the above example,\n",
      "        the values 1, 2, 3, etc. actually represent the midpoint of classes\n",
      "        0.5-1.5, 1.5-2.5, 2.5-3.5, etc. The middle value falls somewhere in\n",
      "        class 3.5-4.5, and interpolation is used to estimate it.\n",
      "        \n",
      "        Optional argument ``interval`` represents the class interval, and\n",
      "        defaults to 1. Changing the class interval naturally will change the\n",
      "        interpolated 50th percentile value:\n",
      "        \n",
      "        >>> median_grouped([1, 3, 3, 5, 7], interval=1)\n",
      "        3.25\n",
      "        >>> median_grouped([1, 3, 3, 5, 7], interval=2)\n",
      "        3.5\n",
      "        \n",
      "        This function does not check whether the data points are at least\n",
      "        ``interval`` apart.\n",
      "    \n",
      "    median_high(data)\n",
      "        Return the high median of data.\n",
      "        \n",
      "        When the number of data points is odd, the middle value is returned.\n",
      "        When it is even, the larger of the two middle values is returned.\n",
      "        \n",
      "        >>> median_high([1, 3, 5])\n",
      "        3\n",
      "        >>> median_high([1, 3, 5, 7])\n",
      "        5\n",
      "    \n",
      "    median_low(data)\n",
      "        Return the low median of numeric data.\n",
      "        \n",
      "        When the number of data points is odd, the middle value is returned.\n",
      "        When it is even, the smaller of the two middle values is returned.\n",
      "        \n",
      "        >>> median_low([1, 3, 5])\n",
      "        3\n",
      "        >>> median_low([1, 3, 5, 7])\n",
      "        3\n",
      "    \n",
      "    mode(data)\n",
      "        Return the most common data point from discrete or nominal data.\n",
      "        \n",
      "        ``mode`` assumes discrete data, and returns a single value. This is the\n",
      "        standard treatment of the mode as commonly taught in schools:\n",
      "        \n",
      "        >>> mode([1, 1, 2, 3, 3, 3, 3, 4])\n",
      "        3\n",
      "        \n",
      "        This also works with nominal (non-numeric) data:\n",
      "        \n",
      "        >>> mode([\"red\", \"blue\", \"blue\", \"red\", \"green\", \"red\", \"red\"])\n",
      "        'red'\n",
      "        \n",
      "        If there is not exactly one most common value, ``mode`` will raise\n",
      "        StatisticsError.\n",
      "    \n",
      "    pstdev(data, mu=None)\n",
      "        Return the square root of the population variance.\n",
      "        \n",
      "        See ``pvariance`` for arguments and other details.\n",
      "        \n",
      "        >>> pstdev([1.5, 2.5, 2.5, 2.75, 3.25, 4.75])\n",
      "        0.986893273527251\n",
      "    \n",
      "    pvariance(data, mu=None)\n",
      "        Return the population variance of ``data``.\n",
      "        \n",
      "        data should be an iterable of Real-valued numbers, with at least one\n",
      "        value. The optional argument mu, if given, should be the mean of\n",
      "        the data. If it is missing or None, the mean is automatically calculated.\n",
      "        \n",
      "        Use this function to calculate the variance from the entire population.\n",
      "        To estimate the variance from a sample, the ``variance`` function is\n",
      "        usually a better choice.\n",
      "        \n",
      "        Examples:\n",
      "        \n",
      "        >>> data = [0.0, 0.25, 0.25, 1.25, 1.5, 1.75, 2.75, 3.25]\n",
      "        >>> pvariance(data)\n",
      "        1.25\n",
      "        \n",
      "        If you have already calculated the mean of the data, you can pass it as\n",
      "        the optional second argument to avoid recalculating it:\n",
      "        \n",
      "        >>> mu = mean(data)\n",
      "        >>> pvariance(data, mu)\n",
      "        1.25\n",
      "        \n",
      "        This function does not check that ``mu`` is actually the mean of ``data``.\n",
      "        Giving arbitrary values for ``mu`` may lead to invalid or impossible\n",
      "        results.\n",
      "        \n",
      "        Decimals and Fractions are supported:\n",
      "        \n",
      "        >>> from decimal import Decimal as D\n",
      "        >>> pvariance([D(\"27.5\"), D(\"30.25\"), D(\"30.25\"), D(\"34.5\"), D(\"41.75\")])\n",
      "        Decimal('24.815')\n",
      "        \n",
      "        >>> from fractions import Fraction as F\n",
      "        >>> pvariance([F(1, 4), F(5, 4), F(1, 2)])\n",
      "        Fraction(13, 72)\n",
      "    \n",
      "    stdev(data, xbar=None)\n",
      "        Return the square root of the sample variance.\n",
      "        \n",
      "        See ``variance`` for arguments and other details.\n",
      "        \n",
      "        >>> stdev([1.5, 2.5, 2.5, 2.75, 3.25, 4.75])\n",
      "        1.0810874155219827\n",
      "    \n",
      "    variance(data, xbar=None)\n",
      "        Return the sample variance of data.\n",
      "        \n",
      "        data should be an iterable of Real-valued numbers, with at least two\n",
      "        values. The optional argument xbar, if given, should be the mean of\n",
      "        the data. If it is missing or None, the mean is automatically calculated.\n",
      "        \n",
      "        Use this function when your data is a sample from a population. To\n",
      "        calculate the variance from the entire population, see ``pvariance``.\n",
      "        \n",
      "        Examples:\n",
      "        \n",
      "        >>> data = [2.75, 1.75, 1.25, 0.25, 0.5, 1.25, 3.5]\n",
      "        >>> variance(data)\n",
      "        1.3720238095238095\n",
      "        \n",
      "        If you have already calculated the mean of your data, you can pass it as\n",
      "        the optional second argument ``xbar`` to avoid recalculating it:\n",
      "        \n",
      "        >>> m = mean(data)\n",
      "        >>> variance(data, m)\n",
      "        1.3720238095238095\n",
      "        \n",
      "        This function does not check that ``xbar`` is actually the mean of\n",
      "        ``data``. Giving arbitrary values for ``xbar`` may lead to invalid or\n",
      "        impossible results.\n",
      "        \n",
      "        Decimals and Fractions are supported:\n",
      "        \n",
      "        >>> from decimal import Decimal as D\n",
      "        >>> variance([D(\"27.5\"), D(\"30.25\"), D(\"30.25\"), D(\"34.5\"), D(\"41.75\")])\n",
      "        Decimal('31.01875')\n",
      "        \n",
      "        >>> from fractions import Fraction as F\n",
      "        >>> variance([F(1, 6), F(1, 2), F(5, 3)])\n",
      "        Fraction(67, 108)\n",
      "\n",
      "DATA\n",
      "    __all__ = ['StatisticsError', 'pstdev', 'pvariance', 'stdev', 'varianc...\n",
      "\n",
      "FILE\n",
      "    c:\\users\\sucha\\anaconda3\\lib\\statistics.py\n",
      "\n",
      "\n"
     ]
    }
   ],
   "source": [
    "import statistics\n",
    "help(statistics)"
   ]
  },
  {
   "cell_type": "code",
   "execution_count": 3,
   "metadata": {},
   "outputs": [
    {
     "name": "stdout",
     "output_type": "stream",
     "text": [
      "enter day:4\n",
      "enter month:5\n",
      "enter year:1996\n",
      "6\n"
     ]
    }
   ],
   "source": [
    "#from math import floor\n",
    "d=int(input('enter day:'))\n",
    "m=int(input('enter month:'))\n",
    "y=int(input('enter year:'))\n",
    "Y=y-(14-m)//12\n",
    "x=Y+(Y//4)-(Y//100)+(Y//400)\n",
    "M=m+12*((14-m)//12)-2\n",
    "D=(d+x+(31*M//12))%7\n",
    "print(D)\n",
    "\n",
    "#o=sun,1=mon,2=tue...6=sat\n"
   ]
  },
  {
   "cell_type": "markdown",
   "metadata": {},
   "source": [
    "# day 3"
   ]
  },
  {
   "cell_type": "code",
   "execution_count": 19,
   "metadata": {},
   "outputs": [
    {
     "name": "stdout",
     "output_type": "stream",
     "text": [
      "lower range:10\n",
      "upper range20\n",
      "11\n",
      "13\n",
      "17\n",
      "19\n"
     ]
    }
   ],
   "source": [
    "lower=int(input(\"lower range:\"))\n",
    "upper=int(input(\"upper range\"))\n",
    "for num in range(lower,upper+1):\n",
    "    if num>1:\n",
    "        for i in range(2,num):\n",
    "            if(num%i)==0:\n",
    "                break\n",
    "        else:\n",
    "            print(num)"
   ]
  },
  {
   "cell_type": "code",
   "execution_count": 137,
   "metadata": {},
   "outputs": [
    {
     "name": "stdout",
     "output_type": "stream",
     "text": [
      "decimal value:100\n",
      "00000000000000000000000001100100"
     ]
    }
   ],
   "source": [
    "num=int(input(\"decimal value:\"))\n",
    "bin=[]\n",
    "while (num>0):\n",
    "    rem=num%2\n",
    "    bin.append(rem)\n",
    "    num=num//2\n",
    "bin.reverse()\n",
    "bin\n",
    "while len(bin)<32:\n",
    "     bin.insert(0,0)\n",
    "for i in bin:\n",
    "      print(i,end='')\n",
    "        "
   ]
  },
  {
   "cell_type": "code",
   "execution_count": 5,
   "metadata": {},
   "outputs": [
    {
     "name": "stdout",
     "output_type": "stream",
     "text": [
      "decimal value:100\n",
      "01100100[0, 1, 0, 0, 0, 1, 1, 0]\n",
      "01000110\n",
      "70\n"
     ]
    }
   ],
   "source": [
    "num=int(input(\"decimal value:\"))\n",
    "bin=[]\n",
    "while (num>0):\n",
    "    rem=num%2\n",
    "    bin.append(rem)\n",
    "    num=num//2\n",
    "bin.reverse()\n",
    "bin\n",
    "while len(bin)<8:\n",
    "     bin.insert(0,0)\n",
    "for i in bin:\n",
    "      print(i,end='')\n",
    "nib1=bin[0:4]\n",
    "nib2=bin[4:8]\n",
    "nib1,nib2 = nib2,nib1\n",
    "nib3=nib1+nib2\n",
    "print(nib3)\n",
    "for i in nib3:\n",
    "    print(i,end='')\n",
    "nib3\n",
    "print()\n",
    "sum=0\n",
    "e=len(nib3)-1\n",
    "for i in nib3:\n",
    "    h=(2**e)\n",
    "    v=h*i\n",
    "    sum+=v\n",
    "    e=e-1\n",
    "print(sum)\n",
    "\n",
    "        \n",
    "        "
   ]
  },
  {
   "cell_type": "code",
   "execution_count": 74,
   "metadata": {},
   "outputs": [
    {
     "name": "stdout",
     "output_type": "stream",
     "text": [
      "140\n"
     ]
    }
   ],
   "source": [
    "nib3=[1,0,0,0,1,1,0,0]\n",
    "sum=0\n",
    "e=len(nib3)-1\n",
    "for i in nib3:\n",
    "    h=(2**e)\n",
    "    v=h*i\n",
    "    sum+=v\n",
    "    e=e-1\n",
    "print(sum)"
   ]
  },
  {
   "cell_type": "code",
   "execution_count": 32,
   "metadata": {},
   "outputs": [
    {
     "data": {
      "text/plain": [
       "'1'"
      ]
     },
     "execution_count": 32,
     "metadata": {},
     "output_type": "execute_result"
    }
   ],
   "source": [
    "n='111'\n",
    "#l=str(n)\n",
    "g=n[i]\n",
    "g\n"
   ]
  },
  {
   "cell_type": "code",
   "execution_count": 35,
   "metadata": {},
   "outputs": [],
   "source": [
    "import math"
   ]
  },
  {
   "cell_type": "code",
   "execution_count": 51,
   "metadata": {},
   "outputs": [
    {
     "data": {
      "text/plain": [
       "1.1504440784612413"
      ]
     },
     "execution_count": 51,
     "metadata": {},
     "output_type": "execute_result"
    }
   ],
   "source": [
    "x=20\n",
    "a=x%(2*(math.pi))\n",
    "a"
   ]
  },
  {
   "cell_type": "code",
   "execution_count": null,
   "metadata": {},
   "outputs": [],
   "source": []
  },
  {
   "cell_type": "code",
   "execution_count": 48,
   "metadata": {},
   "outputs": [
    {
     "data": {
      "text/plain": [
       "6.283185307179586"
      ]
     },
     "execution_count": 48,
     "metadata": {},
     "output_type": "execute_result"
    }
   ],
   "source": [
    "2*math.pi"
   ]
  },
  {
   "cell_type": "code",
   "execution_count": 10,
   "metadata": {},
   "outputs": [
    {
     "data": {
      "text/plain": [
       "2"
      ]
     },
     "execution_count": 10,
     "metadata": {},
     "output_type": "execute_result"
    }
   ],
   "source": [
    "import random\n",
    "random.randint(1,6)"
   ]
  },
  {
   "cell_type": "code",
   "execution_count": 31,
   "metadata": {},
   "outputs": [
    {
     "name": "stdout",
     "output_type": "stream",
     "text": [
      "number of times die rolled:9\n",
      "[3, 5, 4, 1, 2, 5, 6, 3, 6]\n",
      "0\n"
     ]
    }
   ],
   "source": [
    "n=int(input('number of times die rolled:'))\n",
    "list=[]\n",
    "for i in range (n):\n",
    "    x=random.randint(1,6)\n",
    "    list.append(x)\n",
    "print(list)\n",
    "#print(max(set(list),key=list.count))\n",
    "print(list.count(i))"
   ]
  },
  {
   "cell_type": "code",
   "execution_count": 50,
   "metadata": {},
   "outputs": [
    {
     "name": "stdout",
     "output_type": "stream",
     "text": [
      "n:5\n",
      "[4, 2, 2, 4, 3]\n",
      "1 "
     ]
    }
   ],
   "source": [
    "import random\n",
    "list=[]\n",
    "n=int(input(\"n:\"))\n",
    "for i in range (n):\n",
    "    x=random.randint(1,6)\n",
    "    list.append(x)\n",
    "print(list)\n",
    "for i in list:\n",
    "    a=list.count(i)\n",
    "print(a,end=' ')\n"
   ]
  },
  {
   "cell_type": "code",
   "execution_count": 109,
   "metadata": {},
   "outputs": [
    {
     "name": "stdout",
     "output_type": "stream",
     "text": [
      "[0.8648195342408536, 0.971523617367483, 0.6093367169316547, 0.18249892973037374, 0.027253920181372626]\n",
      "min 0.027253920181372626\n",
      "max 0.971523617367483\n",
      "mean 0.5310865436903475\n"
     ]
    }
   ],
   "source": [
    "import random\n",
    "list=[]\n",
    "for i in range(0,5):\n",
    "    x=random.uniform(0,1)\n",
    "    list.append(x)\n",
    "print(list)\n",
    "print (\"min\",min(list))\n",
    "print (\"max\",max(list))\n",
    "a=0\n",
    "for i in list:\n",
    "    a+=i\n",
    "print(\"mean\",a/5)\n",
    "\n",
    "\n"
   ]
  },
  {
   "cell_type": "code",
   "execution_count": 84,
   "metadata": {},
   "outputs": [
    {
     "data": {
      "text/plain": [
       "1"
      ]
     },
     "execution_count": 84,
     "metadata": {},
     "output_type": "execute_result"
    }
   ],
   "source": [
    "lsit=[1,2,34,]\n",
    "min(lsit)"
   ]
  },
  {
   "cell_type": "code",
   "execution_count": 89,
   "metadata": {},
   "outputs": [
    {
     "name": "stdout",
     "output_type": "stream",
     "text": [
      "Help on module statistics:\n",
      "\n",
      "NAME\n",
      "    statistics - Basic statistics module.\n",
      "\n",
      "DESCRIPTION\n",
      "    This module provides functions for calculating statistics of data, including\n",
      "    averages, variance, and standard deviation.\n",
      "    \n",
      "    Calculating averages\n",
      "    --------------------\n",
      "    \n",
      "    ==================  =============================================\n",
      "    Function            Description\n",
      "    ==================  =============================================\n",
      "    mean                Arithmetic mean (average) of data.\n",
      "    harmonic_mean       Harmonic mean of data.\n",
      "    median              Median (middle value) of data.\n",
      "    median_low          Low median of data.\n",
      "    median_high         High median of data.\n",
      "    median_grouped      Median, or 50th percentile, of grouped data.\n",
      "    mode                Mode (most common value) of data.\n",
      "    ==================  =============================================\n",
      "    \n",
      "    Calculate the arithmetic mean (\"the average\") of data:\n",
      "    \n",
      "    >>> mean([-1.0, 2.5, 3.25, 5.75])\n",
      "    2.625\n",
      "    \n",
      "    \n",
      "    Calculate the standard median of discrete data:\n",
      "    \n",
      "    >>> median([2, 3, 4, 5])\n",
      "    3.5\n",
      "    \n",
      "    \n",
      "    Calculate the median, or 50th percentile, of data grouped into class intervals\n",
      "    centred on the data values provided. E.g. if your data points are rounded to\n",
      "    the nearest whole number:\n",
      "    \n",
      "    >>> median_grouped([2, 2, 3, 3, 3, 4])  #doctest: +ELLIPSIS\n",
      "    2.8333333333...\n",
      "    \n",
      "    This should be interpreted in this way: you have two data points in the class\n",
      "    interval 1.5-2.5, three data points in the class interval 2.5-3.5, and one in\n",
      "    the class interval 3.5-4.5. The median of these data points is 2.8333...\n",
      "    \n",
      "    \n",
      "    Calculating variability or spread\n",
      "    ---------------------------------\n",
      "    \n",
      "    ==================  =============================================\n",
      "    Function            Description\n",
      "    ==================  =============================================\n",
      "    pvariance           Population variance of data.\n",
      "    variance            Sample variance of data.\n",
      "    pstdev              Population standard deviation of data.\n",
      "    stdev               Sample standard deviation of data.\n",
      "    ==================  =============================================\n",
      "    \n",
      "    Calculate the standard deviation of sample data:\n",
      "    \n",
      "    >>> stdev([2.5, 3.25, 5.5, 11.25, 11.75])  #doctest: +ELLIPSIS\n",
      "    4.38961843444...\n",
      "    \n",
      "    If you have previously calculated the mean, you can pass it as the optional\n",
      "    second argument to the four \"spread\" functions to avoid recalculating it:\n",
      "    \n",
      "    >>> data = [1, 2, 2, 4, 4, 4, 5, 6]\n",
      "    >>> mu = mean(data)\n",
      "    >>> pvariance(data, mu)\n",
      "    2.5\n",
      "    \n",
      "    \n",
      "    Exceptions\n",
      "    ----------\n",
      "    \n",
      "    A single exception is defined: StatisticsError is a subclass of ValueError.\n",
      "\n",
      "CLASSES\n",
      "    builtins.ValueError(builtins.Exception)\n",
      "        StatisticsError\n",
      "    \n",
      "    class StatisticsError(builtins.ValueError)\n",
      "     |  Inappropriate argument value (of correct type).\n",
      "     |  \n",
      "     |  Method resolution order:\n",
      "     |      StatisticsError\n",
      "     |      builtins.ValueError\n",
      "     |      builtins.Exception\n",
      "     |      builtins.BaseException\n",
      "     |      builtins.object\n",
      "     |  \n",
      "     |  Data descriptors defined here:\n",
      "     |  \n",
      "     |  __weakref__\n",
      "     |      list of weak references to the object (if defined)\n",
      "     |  \n",
      "     |  ----------------------------------------------------------------------\n",
      "     |  Methods inherited from builtins.ValueError:\n",
      "     |  \n",
      "     |  __init__(self, /, *args, **kwargs)\n",
      "     |      Initialize self.  See help(type(self)) for accurate signature.\n",
      "     |  \n",
      "     |  ----------------------------------------------------------------------\n",
      "     |  Static methods inherited from builtins.ValueError:\n",
      "     |  \n",
      "     |  __new__(*args, **kwargs) from builtins.type\n",
      "     |      Create and return a new object.  See help(type) for accurate signature.\n",
      "     |  \n",
      "     |  ----------------------------------------------------------------------\n",
      "     |  Methods inherited from builtins.BaseException:\n",
      "     |  \n",
      "     |  __delattr__(self, name, /)\n",
      "     |      Implement delattr(self, name).\n",
      "     |  \n",
      "     |  __getattribute__(self, name, /)\n",
      "     |      Return getattr(self, name).\n",
      "     |  \n",
      "     |  __reduce__(...)\n",
      "     |      Helper for pickle.\n",
      "     |  \n",
      "     |  __repr__(self, /)\n",
      "     |      Return repr(self).\n",
      "     |  \n",
      "     |  __setattr__(self, name, value, /)\n",
      "     |      Implement setattr(self, name, value).\n",
      "     |  \n",
      "     |  __setstate__(...)\n",
      "     |  \n",
      "     |  __str__(self, /)\n",
      "     |      Return str(self).\n",
      "     |  \n",
      "     |  with_traceback(...)\n",
      "     |      Exception.with_traceback(tb) --\n",
      "     |      set self.__traceback__ to tb and return self.\n",
      "     |  \n",
      "     |  ----------------------------------------------------------------------\n",
      "     |  Data descriptors inherited from builtins.BaseException:\n",
      "     |  \n",
      "     |  __cause__\n",
      "     |      exception cause\n",
      "     |  \n",
      "     |  __context__\n",
      "     |      exception context\n",
      "     |  \n",
      "     |  __dict__\n",
      "     |  \n",
      "     |  __suppress_context__\n",
      "     |  \n",
      "     |  __traceback__\n",
      "     |  \n",
      "     |  args\n",
      "\n",
      "FUNCTIONS\n",
      "    harmonic_mean(data)\n",
      "        Return the harmonic mean of data.\n",
      "        \n",
      "        The harmonic mean, sometimes called the subcontrary mean, is the\n",
      "        reciprocal of the arithmetic mean of the reciprocals of the data,\n",
      "        and is often appropriate when averaging quantities which are rates\n",
      "        or ratios, for example speeds. Example:\n",
      "        \n",
      "        Suppose an investor purchases an equal value of shares in each of\n",
      "        three companies, with P/E (price/earning) ratios of 2.5, 3 and 10.\n",
      "        What is the average P/E ratio for the investor's portfolio?\n",
      "        \n",
      "        >>> harmonic_mean([2.5, 3, 10])  # For an equal investment portfolio.\n",
      "        3.6\n",
      "        \n",
      "        Using the arithmetic mean would give an average of about 5.167, which\n",
      "        is too high.\n",
      "        \n",
      "        If ``data`` is empty, or any element is less than zero,\n",
      "        ``harmonic_mean`` will raise ``StatisticsError``.\n",
      "    \n",
      "    mean(data)\n",
      "        Return the sample arithmetic mean of data.\n",
      "        \n",
      "        >>> mean([1, 2, 3, 4, 4])\n",
      "        2.8\n",
      "        \n",
      "        >>> from fractions import Fraction as F\n",
      "        >>> mean([F(3, 7), F(1, 21), F(5, 3), F(1, 3)])\n",
      "        Fraction(13, 21)\n",
      "        \n",
      "        >>> from decimal import Decimal as D\n",
      "        >>> mean([D(\"0.5\"), D(\"0.75\"), D(\"0.625\"), D(\"0.375\")])\n",
      "        Decimal('0.5625')\n",
      "        \n",
      "        If ``data`` is empty, StatisticsError will be raised.\n",
      "    \n",
      "    median(data)\n",
      "        Return the median (middle value) of numeric data.\n",
      "        \n",
      "        When the number of data points is odd, return the middle data point.\n",
      "        When the number of data points is even, the median is interpolated by\n",
      "        taking the average of the two middle values:\n",
      "        \n",
      "        >>> median([1, 3, 5])\n",
      "        3\n",
      "        >>> median([1, 3, 5, 7])\n",
      "        4.0\n",
      "    \n",
      "    median_grouped(data, interval=1)\n",
      "        Return the 50th percentile (median) of grouped continuous data.\n",
      "        \n",
      "        >>> median_grouped([1, 2, 2, 3, 4, 4, 4, 4, 4, 5])\n",
      "        3.7\n",
      "        >>> median_grouped([52, 52, 53, 54])\n",
      "        52.5\n",
      "        \n",
      "        This calculates the median as the 50th percentile, and should be\n",
      "        used when your data is continuous and grouped. In the above example,\n",
      "        the values 1, 2, 3, etc. actually represent the midpoint of classes\n",
      "        0.5-1.5, 1.5-2.5, 2.5-3.5, etc. The middle value falls somewhere in\n",
      "        class 3.5-4.5, and interpolation is used to estimate it.\n",
      "        \n",
      "        Optional argument ``interval`` represents the class interval, and\n",
      "        defaults to 1. Changing the class interval naturally will change the\n",
      "        interpolated 50th percentile value:\n",
      "        \n",
      "        >>> median_grouped([1, 3, 3, 5, 7], interval=1)\n",
      "        3.25\n",
      "        >>> median_grouped([1, 3, 3, 5, 7], interval=2)\n",
      "        3.5\n",
      "        \n",
      "        This function does not check whether the data points are at least\n",
      "        ``interval`` apart.\n",
      "    \n",
      "    median_high(data)\n",
      "        Return the high median of data.\n",
      "        \n",
      "        When the number of data points is odd, the middle value is returned.\n",
      "        When it is even, the larger of the two middle values is returned.\n",
      "        \n",
      "        >>> median_high([1, 3, 5])\n",
      "        3\n",
      "        >>> median_high([1, 3, 5, 7])\n",
      "        5\n",
      "    \n",
      "    median_low(data)\n",
      "        Return the low median of numeric data.\n",
      "        \n",
      "        When the number of data points is odd, the middle value is returned.\n",
      "        When it is even, the smaller of the two middle values is returned.\n",
      "        \n",
      "        >>> median_low([1, 3, 5])\n",
      "        3\n",
      "        >>> median_low([1, 3, 5, 7])\n",
      "        3\n",
      "    \n",
      "    mode(data)\n",
      "        Return the most common data point from discrete or nominal data.\n",
      "        \n",
      "        ``mode`` assumes discrete data, and returns a single value. This is the\n",
      "        standard treatment of the mode as commonly taught in schools:\n",
      "        \n",
      "        >>> mode([1, 1, 2, 3, 3, 3, 3, 4])\n",
      "        3\n",
      "        \n",
      "        This also works with nominal (non-numeric) data:\n",
      "        \n",
      "        >>> mode([\"red\", \"blue\", \"blue\", \"red\", \"green\", \"red\", \"red\"])\n",
      "        'red'\n",
      "        \n",
      "        If there is not exactly one most common value, ``mode`` will raise\n",
      "        StatisticsError.\n",
      "    \n",
      "    pstdev(data, mu=None)\n",
      "        Return the square root of the population variance.\n",
      "        \n",
      "        See ``pvariance`` for arguments and other details.\n",
      "        \n",
      "        >>> pstdev([1.5, 2.5, 2.5, 2.75, 3.25, 4.75])\n",
      "        0.986893273527251\n",
      "    \n",
      "    pvariance(data, mu=None)\n",
      "        Return the population variance of ``data``.\n",
      "        \n",
      "        data should be an iterable of Real-valued numbers, with at least one\n",
      "        value. The optional argument mu, if given, should be the mean of\n",
      "        the data. If it is missing or None, the mean is automatically calculated.\n",
      "        \n",
      "        Use this function to calculate the variance from the entire population.\n",
      "        To estimate the variance from a sample, the ``variance`` function is\n",
      "        usually a better choice.\n",
      "        \n",
      "        Examples:\n",
      "        \n",
      "        >>> data = [0.0, 0.25, 0.25, 1.25, 1.5, 1.75, 2.75, 3.25]\n",
      "        >>> pvariance(data)\n",
      "        1.25\n",
      "        \n",
      "        If you have already calculated the mean of the data, you can pass it as\n",
      "        the optional second argument to avoid recalculating it:\n",
      "        \n",
      "        >>> mu = mean(data)\n",
      "        >>> pvariance(data, mu)\n",
      "        1.25\n",
      "        \n",
      "        This function does not check that ``mu`` is actually the mean of ``data``.\n",
      "        Giving arbitrary values for ``mu`` may lead to invalid or impossible\n",
      "        results.\n",
      "        \n",
      "        Decimals and Fractions are supported:\n",
      "        \n",
      "        >>> from decimal import Decimal as D\n",
      "        >>> pvariance([D(\"27.5\"), D(\"30.25\"), D(\"30.25\"), D(\"34.5\"), D(\"41.75\")])\n",
      "        Decimal('24.815')\n",
      "        \n",
      "        >>> from fractions import Fraction as F\n",
      "        >>> pvariance([F(1, 4), F(5, 4), F(1, 2)])\n",
      "        Fraction(13, 72)\n",
      "    \n",
      "    stdev(data, xbar=None)\n",
      "        Return the square root of the sample variance.\n",
      "        \n",
      "        See ``variance`` for arguments and other details.\n",
      "        \n",
      "        >>> stdev([1.5, 2.5, 2.5, 2.75, 3.25, 4.75])\n",
      "        1.0810874155219827\n",
      "    \n",
      "    variance(data, xbar=None)\n",
      "        Return the sample variance of data.\n",
      "        \n",
      "        data should be an iterable of Real-valued numbers, with at least two\n",
      "        values. The optional argument xbar, if given, should be the mean of\n",
      "        the data. If it is missing or None, the mean is automatically calculated.\n",
      "        \n",
      "        Use this function when your data is a sample from a population. To\n",
      "        calculate the variance from the entire population, see ``pvariance``.\n",
      "        \n",
      "        Examples:\n",
      "        \n",
      "        >>> data = [2.75, 1.75, 1.25, 0.25, 0.5, 1.25, 3.5]\n",
      "        >>> variance(data)\n",
      "        1.3720238095238095\n",
      "        \n",
      "        If you have already calculated the mean of your data, you can pass it as\n",
      "        the optional second argument ``xbar`` to avoid recalculating it:\n",
      "        \n",
      "        >>> m = mean(data)\n",
      "        >>> variance(data, m)\n",
      "        1.3720238095238095\n",
      "        \n",
      "        This function does not check that ``xbar`` is actually the mean of\n",
      "        ``data``. Giving arbitrary values for ``xbar`` may lead to invalid or\n",
      "        impossible results.\n",
      "        \n",
      "        Decimals and Fractions are supported:\n",
      "        \n",
      "        >>> from decimal import Decimal as D\n",
      "        >>> variance([D(\"27.5\"), D(\"30.25\"), D(\"30.25\"), D(\"34.5\"), D(\"41.75\")])\n",
      "        Decimal('31.01875')\n",
      "        \n",
      "        >>> from fractions import Fraction as F\n",
      "        >>> variance([F(1, 6), F(1, 2), F(5, 3)])\n",
      "        Fraction(67, 108)\n",
      "\n",
      "DATA\n",
      "    __all__ = ['StatisticsError', 'pstdev', 'pvariance', 'stdev', 'varianc...\n",
      "\n",
      "FILE\n",
      "    c:\\users\\sucha\\anaconda3\\lib\\statistics.py\n",
      "\n",
      "\n"
     ]
    }
   ],
   "source": [
    "help(statistics)"
   ]
  },
  {
   "cell_type": "code",
   "execution_count": 110,
   "metadata": {},
   "outputs": [
    {
     "name": "stdout",
     "output_type": "stream",
     "text": [
      " 2\n",
      " 3\n",
      "-4.61788822725628\n"
     ]
    }
   ],
   "source": [
    "import math\n",
    "from math import *\n",
    "t=int(input(\" \"))\n",
    "v=int(input(\" \"))\n",
    "x=pow(v,0.16)\n",
    "w=35.74+(0.6215*t)+(0.4275*t-35.75)*x\n",
    "print(w)\n"
   ]
  },
  {
   "cell_type": "code",
   "execution_count": 112,
   "metadata": {},
   "outputs": [
    {
     "name": "stdout",
     "output_type": "stream",
     "text": [
      " 30\n",
      "0.5012130046737978\n"
     ]
    }
   ],
   "source": [
    "import math\n",
    "from math import *\n",
    "degree=int(input(\" \"))\n",
    "x=degree*0.0175\n",
    "print(sin(x))"
   ]
  },
  {
   "cell_type": "code",
   "execution_count": 14,
   "metadata": {},
   "outputs": [
    {
     "name": "stdout",
     "output_type": "stream",
     "text": [
      "2\n",
      "1.5\n"
     ]
    }
   ],
   "source": [
    "n=int(input(\"\"))\n",
    "h1=1\n",
    "for i in range (2,n+1):\n",
    "    h1+=1/i\n",
    "print(h1)"
   ]
  },
  {
   "cell_type": "code",
   "execution_count": 78,
   "metadata": {},
   "outputs": [
    {
     "name": "stdout",
     "output_type": "stream",
     "text": [
      "c12\n",
      "3.464101615137755\n"
     ]
    }
   ],
   "source": [
    "c=int(input(\"c\"))\n",
    "eps=1e-15\n",
    "t=c\n",
    "while (t - c/t) > eps*t:\n",
    "    t=((c/t)+t)/2\n",
    "print(t)\n",
    "        "
   ]
  },
  {
   "cell_type": "code",
   "execution_count": 31,
   "metadata": {
    "scrolled": true
   },
   "outputs": [
    {
     "name": "stdout",
     "output_type": "stream",
     "text": [
      "[0, 1, 2, 3, 4, 5, 6, 7, 8, 9, 10, 11, 12, 13, 14, 15, 16, 17, 18, 19, 20, 21, 22, 23, 24, 25, 26, 27, 28, 29, 30, 31, 32, 33, 34, 35, 36, 37, 38, 39, 40, 41, 42, 43, 44, 45, 46, 47, 48, 49, 50, 51, 52, 53, 54, 55, 56, 57, 58, 59, 60, 61, 62, 63, 64, 83, 65, 66, 67, 68, 69, 70, 71, 72, 73, 74, 75, 76, 77, 78, 79, 80, 81, 82, 83, 84, 85, 86, 87, 88, 89, 90, 91, 92, 93, 94, 95, 96, 97, 98, 99, 100]\n",
      "83\n"
     ]
    }
   ],
   "source": [
    "import random\n",
    "list=[]\n",
    "for i in range(0,101):\n",
    "    list.append(i)\n",
    "x=random.randint(0,100)\n",
    "y=random.randint(0,100)\n",
    "list.insert(x,y)\n",
    "print(list)\n",
    "    \n",
    "print(max(set(list),key=list.count))\n",
    "#a=set(i for i in list if list.count(i)>1 )\n",
    "#print(a,end='')"
   ]
  },
  {
   "cell_type": "code",
   "execution_count": 20,
   "metadata": {},
   "outputs": [
    {
     "name": "stdout",
     "output_type": "stream",
     "text": [
      "{98}"
     ]
    }
   ],
   "source": [
    "x=[1,2,4,6,7,8,3,4,9,2,1,8]\n",
    "a=set(x for x in list if list.count(x)>1)\n",
    "print(a,end='')"
   ]
  },
  {
   "cell_type": "code",
   "execution_count": 59,
   "metadata": {},
   "outputs": [
    {
     "name": "stdout",
     "output_type": "stream",
     "text": [
      "array('i', [1, 2, 3, 4, 5, 6, 7, 8, 9, 7, 8, 9])\n",
      "8\n",
      "2\n"
     ]
    }
   ],
   "source": [
    "import array\n",
    "from array import *\n",
    "arr1=array('i',[1,2,3,4,5,6,7,8,9,7,8,9])\n",
    "# arr1=[1,2,3,4,5,6,7,8,9,7,8,9,a]\n",
    "arr1\n",
    "print(arr1)\n",
    "arr2=set(arr1)\n",
    "#arr3=set(arr1)\n",
    "arr2.remove(max(arr2))\n",
    "arr2.remove(min(arr1))\n",
    "print(max(arr2))\n",
    "print(min(arr2))"
   ]
  },
  {
   "cell_type": "code",
   "execution_count": 53,
   "metadata": {},
   "outputs": [
    {
     "name": "stdout",
     "output_type": "stream",
     "text": [
      "8\n",
      "4\n",
      "2\n"
     ]
    }
   ],
   "source": [
    "n=16\n",
    "i = 2\n",
    "factors = []\n",
    "while i * i <= n:\n",
    "    if n % i:\n",
    "        i += 1\n",
    "    else:\n",
    "        n //= i\n",
    "        factors.append(i)\n",
    "        if n > 1:\n",
    "            factors.append(n)\n",
    "            print(n)"
   ]
  },
  {
   "cell_type": "code",
   "execution_count": 7,
   "metadata": {},
   "outputs": [
    {
     "name": "stdout",
     "output_type": "stream",
     "text": [
      "number:17\n",
      "prime factorials: [17]\n"
     ]
    }
   ],
   "source": [
    "n=int(input(\"number:\"))\n",
    "i=2\n",
    "fact=[]\n",
    "while i*i<=n:\n",
    "    while(n>1):\n",
    "        while n%i==0:\n",
    "            fact.append(i)\n",
    "            n=n/i\n",
    "        i+=1\n",
    "print(\"prime factorials:\",fact)"
   ]
  },
  {
   "cell_type": "code",
   "execution_count": 4,
   "metadata": {},
   "outputs": [
    {
     "name": "stdout",
     "output_type": "stream",
     "text": [
      "2\n",
      "4\n",
      "8\n"
     ]
    }
   ],
   "source": [
    "n=16\n",
    "for i in range(2,n):\n",
    "    if n%i==0:\n",
    "        print(i)"
   ]
  },
  {
   "cell_type": "code",
   "execution_count": 22,
   "metadata": {},
   "outputs": [
    {
     "data": {
      "text/plain": [
       "1"
      ]
     },
     "execution_count": 22,
     "metadata": {},
     "output_type": "execute_result"
    }
   ],
   "source": [
    "import random\n",
    "a=random.randint(0,1)\n",
    "a"
   ]
  },
  {
   "cell_type": "code",
   "execution_count": 6,
   "metadata": {},
   "outputs": [
    {
     "name": "stdout",
     "output_type": "stream",
     "text": [
      "stake:30\n",
      "goal:50\n",
      "trails:20\n",
      "no of wins: 16 \n",
      "wins_percent: 80.0 \n",
      "avg_bets: 558\n"
     ]
    }
   ],
   "source": [
    "import random\n",
    "stake=int(input(\"stake:\"))\n",
    "goal=int(input(\"goal:\"))\n",
    "trails=int(input(\"trails:\"))\n",
    "bets=0\n",
    "wins=0\n",
    "for t in range(trails):\n",
    "    cash=stake\n",
    "    while cash>0 and cash<goal:\n",
    "        bets+=1\n",
    "        if random.randint(0,1)==0:\n",
    "            cash+=1\n",
    "        else:\n",
    "            cash-=1\n",
    "    if cash==goal:\n",
    "            wins+=1\n",
    "            wins_percent=(wins/trails)*100\n",
    "            avg_bets=bets//trails\n",
    "print(\"no of wins:\",wins,\"\\nwins_percent:\",wins_percent,\"\\navg_bets:\",avg_bets)\n",
    "    "
   ]
  },
  {
   "cell_type": "code",
   "execution_count": 35,
   "metadata": {},
   "outputs": [
    {
     "name": "stdout",
     "output_type": "stream",
     "text": [
      "true\n"
     ]
    }
   ],
   "source": [
    "def anagram(s1,s2):\n",
    "     \n",
    "    if (sorted(s1)==sorted(s2)):\n",
    "        print('true')\n",
    "    else:\n",
    "        print('false')\n",
    "s1=\"heart\"\n",
    "s2=\"earth\"\n",
    "anagram(s1,s2)"
   ]
  },
  {
   "cell_type": "code",
   "execution_count": 47,
   "metadata": {},
   "outputs": [
    {
     "name": "stdout",
     "output_type": "stream",
     "text": [
      "true\n"
     ]
    }
   ],
   "source": [
    "def pallindrome(a):\n",
    "    x=a[::-1]\n",
    "    if (a==x):\n",
    "        print(\"true\")\n",
    "    else:\n",
    "        print(\"false\")\n",
    "        \n",
    "a=\"eye\"\n",
    "pallindrome(a)"
   ]
  },
  {
   "cell_type": "code",
   "execution_count": 3,
   "metadata": {},
   "outputs": [],
   "source": [
    "def DecimalToBinary(num): \n",
    "       \n",
    "    if num > 1: \n",
    "        DecimalToBinary(num // 2) \n",
    "    print(num % 2, end = '') \n",
    "    \n",
    "    "
   ]
  },
  {
   "cell_type": "code",
   "execution_count": 4,
   "metadata": {},
   "outputs": [
    {
     "name": "stdout",
     "output_type": "stream",
     "text": [
      "1000110"
     ]
    }
   ],
   "source": [
    " DecimalToBinary(70)"
   ]
  },
  {
   "cell_type": "code",
   "execution_count": 18,
   "metadata": {},
   "outputs": [
    {
     "name": "stdout",
     "output_type": "stream",
     "text": [
      "53,59,61,67,71,73,79,83,89,97,101,103,107,109,113,127,131,137,139,149,"
     ]
    }
   ],
   "source": [
    "for x in range (50,150):\n",
    "    if x>1:\n",
    "        for i in range(2,x):\n",
    "            if(x%i)==0:\n",
    "                break\n",
    "        else:\n",
    "            print(x,end=',')\n"
   ]
  },
  {
   "cell_type": "code",
   "execution_count": 215,
   "metadata": {},
   "outputs": [],
   "source": [
    "class mathfunction:\n",
    "    @staticmethod\n",
    "    def harmonic():\n",
    "        n=int(input(\"number:\"))\n",
    "        h=1\n",
    "        for i in range(2,n+1):\n",
    "            h+=1/i\n",
    "        return(h)\n",
    "    \n",
    "    \n",
    "    @staticmethod\n",
    "    def binary():\n",
    "        num=int(input('number:'))\n",
    "        bin=[]\n",
    "        while (num>0):\n",
    "            rem=num%2\n",
    "            bin.append(rem)\n",
    "            num=num//2\n",
    "        bin.reverse()\n",
    "        return(bin)\n",
    "    \n",
    "    \n",
    "    @staticmethod\n",
    "    def sqaure():\n",
    "        c=int(input(\"c:\"))\n",
    "        eps=1e-15\n",
    "        t=c\n",
    "        while (t-c/t)>eps*t:\n",
    "            t=((c/t)+t)/2\n",
    "    \n",
    "        return (t)\n",
    "    \n",
    "    @staticmethod\n",
    "    def prime():\n",
    "        n=int(input(\"number:\"))\n",
    "        if n>1:\n",
    "            for i in range(2,n):\n",
    "                if(n%i)==0:\n",
    "                    print('not prime')\n",
    "                    break\n",
    "            else:\n",
    "                print(\"prime\")\n",
    "        else:\n",
    "            print(\"not prime\")\n",
    "    \n",
    "    @staticmethod\n",
    "    def fact():\n",
    "        n = input(\"Enter a number: \")\n",
    "        factorial = 1\n",
    "        if int(n) >= 1:\n",
    "            for i in range (1,int(n)+1):\n",
    "                factorial = factorial * i\n",
    "        return(\"Factorail of \",n , \" is : \",factorial)\n",
    "    \n",
    "    \n",
    "    @staticmethod\n",
    "    def futurevalue():\n",
    "        c=int(input(\"c:\"))\n",
    "        r=int(input(\"r:\"))\n",
    "        t=int(input(\"t:\"))\n",
    "        futurevalue=c*pow(1+r,t)\n",
    "        return(futurevalue)\n",
    "    \n",
    "    \n",
    "    @staticmethod\n",
    "    def returnvalue():\n",
    "        c=int(input(\"c:\"))\n",
    "        r=int(input(\"r:\"))\n",
    "        t=int(input(\"t:\"))\n",
    "        returnvalue=c/pow(1+r,t)\n",
    "        return(returnvalue)\n",
    "    \n",
    "    \n",
    "    @staticmethod\n",
    "    def maxvalue(list):\n",
    "        max=list[0]\n",
    "        for i in list:\n",
    "            if i>max:\n",
    "                max=i\n",
    "        return(max)\n",
    "    \n",
    "    \n",
    "    @staticmethod\n",
    "    def minvalue(list):\n",
    "        min=list[0]\n",
    "        for i in list:\n",
    "            if i<min:\n",
    "                min=i\n",
    "        return(min)      \n",
    "    \n",
    "    @staticmethod\n",
    "    def collinear():\n",
    "        x1=int(input('x1:'))\n",
    "        x2=int(input('x2:'))\n",
    "        x3=int(input('x3:'))\n",
    "        y1=int(input('y1:'))\n",
    "        y2=int(input('y2:'))\n",
    "        y3=int(input('y3:'))\n",
    "        slopeAB=(y2-y1)/(x2-x1)\n",
    "        slopeBC=(y3-y2)/(x3-x2)\n",
    "        slopeAC=(y3-y1)/(x3-x1)\n",
    "        if slopeAB==slopeBC==slopeAC and  (1/2)*(((x1-x2)*(y2-y3))-((x2-x3)*(y1-y2)))==0:\n",
    "            return(\"three points are collinear\")\n",
    "        \n",
    "        \n",
    "        \n",
    "#     @staticmethod\n",
    "#     def trianglecollinear():\n",
    "#         x1=int(input('x1:'))\n",
    "#         x2=int(input('x2:'))\n",
    "#         x3=int(input('x3:'))\n",
    "#         y1=int(input('y1:'))\n",
    "#         y2=int(input('y2:'))\n",
    "#         y3=int(input('y3:'))\n",
    "#         if (1/2)*(((x1-x2)*(y2-y3))-((x2-x3)*(y1-y2)))==0:\n",
    "#             return(\"three points are collinear\")\n",
    "        "
   ]
  },
  {
   "cell_type": "code",
   "execution_count": 108,
   "metadata": {},
   "outputs": [
    {
     "name": "stdout",
     "output_type": "stream",
     "text": [
      "number:2\n",
      "r:3\n",
      "t:34\n",
      "590295810358705651712\n"
     ]
    }
   ],
   "source": [
    "c=int(input(\"number:\"))\n",
    "r=int(input(\"r:\"))\n",
    "t=int(input(\"t:\"))\n",
    "x=pow(1+r,t)\n",
    "future_v=c*x\n",
    "print(future_v)\n"
   ]
  },
  {
   "cell_type": "code",
   "execution_count": 118,
   "metadata": {},
   "outputs": [
    {
     "name": "stdout",
     "output_type": "stream",
     "text": [
      "number:4\n"
     ]
    },
    {
     "data": {
      "text/plain": [
       "2.083333333333333"
      ]
     },
     "execution_count": 118,
     "metadata": {},
     "output_type": "execute_result"
    }
   ],
   "source": [
    "mathfunction.harmonic()"
   ]
  },
  {
   "cell_type": "code",
   "execution_count": 120,
   "metadata": {},
   "outputs": [
    {
     "name": "stdout",
     "output_type": "stream",
     "text": [
      "number:12\n"
     ]
    },
    {
     "data": {
      "text/plain": [
       "[1, 1, 0, 0]"
      ]
     },
     "execution_count": 120,
     "metadata": {},
     "output_type": "execute_result"
    }
   ],
   "source": [
    "mathfunction.binary()"
   ]
  },
  {
   "cell_type": "code",
   "execution_count": 121,
   "metadata": {},
   "outputs": [
    {
     "name": "stdout",
     "output_type": "stream",
     "text": [
      "c:4\n"
     ]
    },
    {
     "data": {
      "text/plain": [
       "2.0"
      ]
     },
     "execution_count": 121,
     "metadata": {},
     "output_type": "execute_result"
    }
   ],
   "source": [
    "mathfunction.sqaure()"
   ]
  },
  {
   "cell_type": "code",
   "execution_count": 122,
   "metadata": {},
   "outputs": [
    {
     "name": "stdout",
     "output_type": "stream",
     "text": [
      "number:5\n",
      "prime\n"
     ]
    }
   ],
   "source": [
    "mathfunction.prime()"
   ]
  },
  {
   "cell_type": "code",
   "execution_count": 123,
   "metadata": {},
   "outputs": [
    {
     "name": "stdout",
     "output_type": "stream",
     "text": [
      "Enter a number: 4\n"
     ]
    },
    {
     "data": {
      "text/plain": [
       "('Factorail of ', '4', ' is : ', 24)"
      ]
     },
     "execution_count": 123,
     "metadata": {},
     "output_type": "execute_result"
    }
   ],
   "source": [
    "mathfunction.fact()\n"
   ]
  },
  {
   "cell_type": "code",
   "execution_count": 124,
   "metadata": {},
   "outputs": [
    {
     "name": "stdout",
     "output_type": "stream",
     "text": [
      "c:2\n",
      "r:3\n",
      "t:4\n"
     ]
    },
    {
     "data": {
      "text/plain": [
       "512"
      ]
     },
     "execution_count": 124,
     "metadata": {},
     "output_type": "execute_result"
    }
   ],
   "source": [
    "mathfunction.futurevalue()"
   ]
  },
  {
   "cell_type": "code",
   "execution_count": 125,
   "metadata": {},
   "outputs": [
    {
     "name": "stdout",
     "output_type": "stream",
     "text": [
      "c:2\n",
      "r:3\n",
      "t:4\n"
     ]
    },
    {
     "data": {
      "text/plain": [
       "0.0078125"
      ]
     },
     "execution_count": 125,
     "metadata": {},
     "output_type": "execute_result"
    }
   ],
   "source": [
    "mathfunction.returnvalue()"
   ]
  },
  {
   "cell_type": "code",
   "execution_count": 109,
   "metadata": {},
   "outputs": [
    {
     "data": {
      "text/plain": [
       "56"
      ]
     },
     "execution_count": 109,
     "metadata": {},
     "output_type": "execute_result"
    }
   ],
   "source": [
    "n=[1,2,3,3,4,56]\n",
    "mathfunction.maxvalue(n)"
   ]
  },
  {
   "cell_type": "code",
   "execution_count": 113,
   "metadata": {},
   "outputs": [
    {
     "data": {
      "text/plain": [
       "1"
      ]
     },
     "execution_count": 113,
     "metadata": {},
     "output_type": "execute_result"
    }
   ],
   "source": [
    "n=[1,2,3,3,4,56]\n",
    "mathfunction.minvalue(n)"
   ]
  },
  {
   "cell_type": "code",
   "execution_count": 216,
   "metadata": {},
   "outputs": [
    {
     "name": "stdout",
     "output_type": "stream",
     "text": [
      "x1:2\n",
      "x2:3\n",
      "x3:4\n",
      "y1:5\n",
      "y2:6\n",
      "y3:7\n"
     ]
    },
    {
     "data": {
      "text/plain": [
       "'three points are collinear'"
      ]
     },
     "execution_count": 216,
     "metadata": {},
     "output_type": "execute_result"
    }
   ],
   "source": [
    "mathfunction.collinear()"
   ]
  },
  {
   "cell_type": "code",
   "execution_count": 142,
   "metadata": {},
   "outputs": [
    {
     "name": "stdout",
     "output_type": "stream",
     "text": [
      "x1:2\n",
      "x2:3\n",
      "x3:4\n",
      "y1:5\n",
      "y2:6\n",
      "y3:7\n"
     ]
    },
    {
     "data": {
      "text/plain": [
       "'three points are collinear'"
      ]
     },
     "execution_count": 142,
     "metadata": {},
     "output_type": "execute_result"
    }
   ],
   "source": [
    "mathfunction.trianglecollinear()"
   ]
  },
  {
   "cell_type": "code",
   "execution_count": 145,
   "metadata": {},
   "outputs": [
    {
     "name": "stdout",
     "output_type": "stream",
     "text": [
      "['37', '28', '27', '108']\n",
      "['Jagadish', 'Rohit', 'Bhavani', 'Anil']\n",
      "{'Jagadish': '37', 'Rohit': '28', 'Bhavani': '27', 'Anil': '108'}\n"
     ]
    }
   ],
   "source": [
    "import re\n",
    "string = \"\"\"\n",
    "Jagadish is 37 years old and Rohit is 28 years old.\n",
    "Bhavani is 27 years old and Anil is 108 years old.\n",
    "\"\"\"\n",
    "pattern1 = r'\\d{1,3}'\n",
    "pattern2 = r'[A-Z][a-z]*'\n",
    "ages = re.findall(pattern1, string)\n",
    "names = re.findall(pattern2, string)\n",
    "print(ages)\n",
    "print(names)\n",
    "nameageDict = {}\n",
    "i = 0\n",
    "for j in names:\n",
    "    nameageDict[j] = ages[i]\n",
    "    i += 1\n",
    "print(nameageDict)"
   ]
  },
  {
   "cell_type": "code",
   "execution_count": 148,
   "metadata": {},
   "outputs": [
    {
     "name": "stdout",
     "output_type": "stream",
     "text": [
      "\\d{1,4}\n"
     ]
    }
   ],
   "source": [
    "import re\n",
    "string=\"today date is 02/03/2020\"\n",
    "pattern1=r'\\d{1,4}'\n",
    "print(pattern1)"
   ]
  },
  {
   "cell_type": "code",
   "execution_count": 152,
   "metadata": {},
   "outputs": [
    {
     "name": "stdout",
     "output_type": "stream",
     "text": [
      "Enter Year1996\n",
      "Enter start day of the year Mo,Tu,We,Th,Fr,Sa,SuSu\n",
      "    January 1996    \n",
      "Mo Tu We Th Fr Sa Su \n",
      "                  1  \n",
      "2  3  4  5  6  7  8  \n",
      "9  10 11 12 13 14 15 \n",
      "16 17 18 19 20 21 22 \n",
      "23 24 25 26 27 28 29 \n",
      "30 31 \n",
      "\n",
      "   Feburary 1996    \n",
      "Mo Tu We Th Fr Sa Su \n",
      "      1  2  3  4  5  \n",
      "6  7  8  9  10 11 12 \n",
      "13 14 15 16 17 18 19 \n",
      "20 21 22 23 24 25 26 \n",
      "27 28 29 \n",
      "\n",
      "     March 1996     \n",
      "Mo Tu We Th Fr Sa Su \n",
      "         1  2  3  4  \n",
      "5  6  7  8  9  10 11 \n",
      "12 13 14 15 16 17 18 \n",
      "19 20 21 22 23 24 25 \n",
      "26 27 28 29 30 31 \n",
      "\n",
      "     April 1996     \n",
      "Mo Tu We Th Fr Sa Su \n",
      "                  1  \n",
      "2  3  4  5  6  7  8  \n",
      "9  10 11 12 13 14 15 \n",
      "16 17 18 19 20 21 22 \n",
      "23 24 25 26 27 28 29 \n",
      "30 \n",
      "\n",
      "      May 1996      \n",
      "Mo Tu We Th Fr Sa Su \n",
      "   1  2  3  4  5  6  \n",
      "7  8  9  10 11 12 13 \n",
      "14 15 16 17 18 19 20 \n",
      "21 22 23 24 25 26 27 \n",
      "28 29 30 31 \n",
      "\n",
      "     June 1996      \n",
      "Mo Tu We Th Fr Sa Su \n",
      "            1  2  3  \n",
      "4  5  6  7  8  9  10 \n",
      "11 12 13 14 15 16 17 \n",
      "18 19 20 21 22 23 24 \n",
      "25 26 27 28 29 30 \n",
      "\n",
      "     July 1996      \n",
      "Mo Tu We Th Fr Sa Su \n",
      "                  1  \n",
      "2  3  4  5  6  7  8  \n",
      "9  10 11 12 13 14 15 \n",
      "16 17 18 19 20 21 22 \n",
      "23 24 25 26 27 28 29 \n",
      "30 31 \n",
      "\n",
      "    August 1996     \n",
      "Mo Tu We Th Fr Sa Su \n",
      "      1  2  3  4  5  \n",
      "6  7  8  9  10 11 12 \n",
      "13 14 15 16 17 18 19 \n",
      "20 21 22 23 24 25 26 \n",
      "27 28 29 30 31 \n",
      "\n",
      "   September 1996   \n",
      "Mo Tu We Th Fr Sa Su \n",
      "               1  2  \n",
      "3  4  5  6  7  8  9  \n",
      "10 11 12 13 14 15 16 \n",
      "17 18 19 20 21 22 23 \n",
      "24 25 26 27 28 29 30 \n",
      "\n",
      "\n",
      "    October 1996    \n",
      "Mo Tu We Th Fr Sa Su \n",
      "1  2  3  4  5  6  7  \n",
      "8  9  10 11 12 13 14 \n",
      "15 16 17 18 19 20 21 \n",
      "22 23 24 25 26 27 28 \n",
      "29 30 31 \n",
      "\n",
      "   November 1996    \n",
      "Mo Tu We Th Fr Sa Su \n",
      "         1  2  3  4  \n",
      "5  6  7  8  9  10 11 \n",
      "12 13 14 15 16 17 18 \n",
      "19 20 21 22 23 24 25 \n",
      "26 27 28 29 30 \n",
      "\n",
      "   December 1996    \n",
      "Mo Tu We Th Fr Sa Su \n",
      "               1  2  \n",
      "3  4  5  6  7  8  9  \n",
      "10 11 12 13 14 15 16 \n",
      "17 18 19 20 21 22 23 \n",
      "24 25 26 27 28 29 30 \n",
      "31 \n",
      "\n"
     ]
    }
   ],
   "source": [
    "calender = [('January', range(1, 31 + 1)),\n",
    "            ('Feburary', range(1, 28 + 1)),\n",
    "            ('March', range(1, 31 + 1)),\n",
    "            ('April', range(1, 30 + 1)),\n",
    "            ('May', range(1, 31 + 1)),\n",
    "            ('June', range(1, 30 + 1)),\n",
    "            ('July', range(1, 31 + 1)),\n",
    "            ('August', range(1, 31 + 1)),\n",
    "            ('September', range(1, 30 + 1)),\n",
    "            ('October', range(1, 31 + 1)),\n",
    "            ('November', range(1, 30 + 1)),\n",
    "            ('December', range(1, 31 + 1))]\n",
    "\n",
    "week = ['Mo', 'Tu', 'We', 'Th', 'Fr', 'Sa', 'Su']\n",
    "#month=['January','Feburary','March','April','May','June','July','August','September','October','November','December']\n",
    "\n",
    "def make_calendar(year, start_day):\n",
    "    \"\"\"\n",
    "    make_calendar(int, str) --> None\n",
    "    \"\"\"\n",
    "    # Determine current starting position on calendar\n",
    "    start_pos = week.index(start_day)\n",
    "\n",
    "    # if True, adjust Feburary date range for leap year | 29 days\n",
    "    if is_leap(year):\n",
    "        calender[1] = ('Feburary', range(1, 29 + 1))\n",
    "\n",
    "    for month, days in calender:\n",
    "        # Print month title\n",
    "        print('{0} {1}'.format(month, year).center(20, ' '))\n",
    "        # Print Day headings\n",
    "        print(''.join(['{0:<3}'.format(w) for w in week]))\n",
    "        # Add spacing for non-zero starting position\n",
    "        print('{0:<3}'.format('')*start_pos, end='')\n",
    "\n",
    "        for day in days:\n",
    "            # Print day\n",
    "            print('{0:<3}'.format(day), end='')\n",
    "            start_pos += 1\n",
    "            if start_pos == 7:\n",
    "                # If start_pos == 7 (Sunday) start new line\n",
    "                print()\n",
    "                start_pos = 0 # Reset counter\n",
    "        print('\\n')\n",
    "\n",
    "def is_leap(year):\n",
    "    \"\"\"Checks if year is a leap year\"\"\"\n",
    "    if year % 4 == 0:\n",
    "        if year % 100 == 0:\n",
    "            if year % 400 == 0:\n",
    "                return True\n",
    "            else:\n",
    "                return False\n",
    "        else:\n",
    "            return True\n",
    "    else:\n",
    "        return False\n",
    "yr=int(input('Enter Year'))\n",
    "strtday=input('Enter start day of the year Mo,Tu,We,Th,Fr,Sa,Su')\n",
    "make_calendar(yr,strtday)"
   ]
  },
  {
   "cell_type": "code",
   "execution_count": 186,
   "metadata": {},
   "outputs": [
    {
     "name": "stdout",
     "output_type": "stream",
     "text": [
      "[2, 3, 5, 6, 7, 8]\n"
     ]
    }
   ],
   "source": [
    "def bubblesort(arr):\n",
    "    for i in range(n-1,0,-1):\n",
    "        for j in range (i):\n",
    "            if arr[j]>arr[j+1]:\n",
    "                arr[j],arr[j+1]=arr[j+1],arr[j]\n",
    "arr=[5,3,8,6,7,2]\n",
    "n=len(arr)\n",
    "bubblesort(arr)\n",
    "print(arr)"
   ]
  },
  {
   "cell_type": "markdown",
   "metadata": {},
   "source": [
    "## day 8"
   ]
  },
  {
   "cell_type": "code",
   "execution_count": 209,
   "metadata": {},
   "outputs": [
    {
     "ename": "NameError",
     "evalue": "name 'suchi' is not defined",
     "output_type": "error",
     "traceback": [
      "\u001b[1;31m---------------------------------------------------------------------------\u001b[0m",
      "\u001b[1;31mNameError\u001b[0m                                 Traceback (most recent call last)",
      "\u001b[1;32m<ipython-input-209-42aa12fbfe02>\u001b[0m in \u001b[0;36m<module>\u001b[1;34m\u001b[0m\n\u001b[0;32m     17\u001b[0m \u001b[1;32mif\u001b[0m \u001b[0m__name__\u001b[0m \u001b[1;33m==\u001b[0m \u001b[1;34m\"__main__\"\u001b[0m\u001b[1;33m:\u001b[0m\u001b[1;33m\u001b[0m\u001b[1;33m\u001b[0m\u001b[0m\n\u001b[0;32m     18\u001b[0m     \u001b[0mlist\u001b[0m\u001b[1;33m=\u001b[0m\u001b[1;33m[\u001b[0m\u001b[1;34m\"ram\"\u001b[0m\u001b[1;33m,\u001b[0m\u001b[1;34m\"suchi\"\u001b[0m\u001b[1;33m,\u001b[0m\u001b[1;34m\"navin\"\u001b[0m\u001b[1;33m,\u001b[0m\u001b[1;34m\"ani\"\u001b[0m\u001b[1;33m]\u001b[0m\u001b[1;33m\u001b[0m\u001b[1;33m\u001b[0m\u001b[0m\n\u001b[1;32m---> 19\u001b[1;33m     \u001b[0mn\u001b[0m\u001b[1;33m=\u001b[0m\u001b[0msuchi\u001b[0m\u001b[1;33m\u001b[0m\u001b[1;33m\u001b[0m\u001b[0m\n\u001b[0m\u001b[0;32m     20\u001b[0m     \u001b[1;32mif\u001b[0m \u001b[0msearch\u001b[0m\u001b[1;33m(\u001b[0m\u001b[0mlist\u001b[0m\u001b[1;33m,\u001b[0m\u001b[0mn\u001b[0m\u001b[1;33m)\u001b[0m\u001b[1;33m:\u001b[0m\u001b[1;33m\u001b[0m\u001b[1;33m\u001b[0m\u001b[0m\n\u001b[0;32m     21\u001b[0m         \u001b[0mprint\u001b[0m\u001b[1;33m(\u001b[0m\u001b[1;34m'found at'\u001b[0m\u001b[1;33m,\u001b[0m\u001b[0mpos\u001b[0m\u001b[1;33m+\u001b[0m\u001b[1;36m1\u001b[0m\u001b[1;33m)\u001b[0m\u001b[1;33m\u001b[0m\u001b[1;33m\u001b[0m\u001b[0m\n",
      "\u001b[1;31mNameError\u001b[0m: name 'suchi' is not defined"
     ]
    }
   ],
   "source": [
    "#binary search of the word from list\n",
    "#pos=-1\n",
    "def search(list,n):\n",
    "    l=0\n",
    "    u=len(list)-1\n",
    "    while l<=u:\n",
    "        mid=(l+u)//2\n",
    "        if list[mid]==n:\n",
    "            globals()['pos']=mid\n",
    "            return True\n",
    "        else:\n",
    "            if list[mid]<n:\n",
    "                l=mid+1\n",
    "            else:\n",
    "                u=mid-1\n",
    "    return False       \n",
    "\n",
    "\n",
    "if __name__ == \"__main__\":               \n",
    "    list=[\"ram\",\"suchi\",\"navin\",\"ani\"]\n",
    "    n=suchi\n",
    "    if search(list,n):\n",
    "        print('found at',pos+1)\n",
    "    else:\n",
    "        print('not found')"
   ]
  },
  {
   "cell_type": "code",
   "execution_count": 211,
   "metadata": {},
   "outputs": [
    {
     "name": "stdout",
     "output_type": "stream",
     "text": [
      "Element found at index 1\n"
     ]
    }
   ],
   "source": [
    "def binarySearch(arr, x): \n",
    "    l = 0\n",
    "    r = len(arr) \n",
    "    while (l <= r): \n",
    "        m = l + ((r - l) // 2) \n",
    "  \n",
    "        res = (x == arr[m]) \n",
    "  \n",
    "        # Check if x is present at mid \n",
    "        if (res == 0): \n",
    "            return m - 1\n",
    "  \n",
    "        # If x greater, ignore left half \n",
    "        if (res > 0): \n",
    "            l = m + 1\n",
    "  \n",
    "        # If x is smaller, ignore right half \n",
    "        else: \n",
    "            r = m - 1\n",
    "  \n",
    "    return -1\n",
    "  \n",
    "# Driver Code \n",
    "if __name__ == \"__main__\": \n",
    "  \n",
    "    arr = [\"ram\", \"suchi\",  \n",
    "               \"navin\", \"praveen\"]; \n",
    "    x = \"suchi\"\n",
    "    result = binarySearch(arr, x) \n",
    "  \n",
    "    if (result == -1): \n",
    "        print(\"Element not present\") \n",
    "    else: \n",
    "        print(\"Element found at index\" , \n",
    "                                 result) "
   ]
  },
  {
   "cell_type": "code",
   "execution_count": 219,
   "metadata": {},
   "outputs": [
    {
     "data": {
      "text/plain": [
       "4294967296"
      ]
     },
     "execution_count": 219,
     "metadata": {},
     "output_type": "execute_result"
    }
   ],
   "source": [
    "2**32"
   ]
  },
  {
   "cell_type": "code",
   "execution_count": 44,
   "metadata": {},
   "outputs": [],
   "source": [
    "import random\n",
    "def get_promo_code(num_chars):\n",
    "    code_chars = '0123456789ABCDEFGHIJKLMNOPQRSTUVWXYZ'\n",
    "    code = ''\n",
    "    for i in range(0, num_chars):\n",
    "        slice_start = random.randint(0, len(code_chars) - 1)\n",
    "        #code += code_chars[slice_start: slice_start + 1]\n",
    "        code=code+code_chars[slice_start]\n",
    "    return code"
   ]
  },
  {
   "cell_type": "code",
   "execution_count": 45,
   "metadata": {},
   "outputs": [
    {
     "data": {
      "text/plain": [
       "'R89HUZWR0'"
      ]
     },
     "execution_count": 45,
     "metadata": {},
     "output_type": "execute_result"
    }
   ],
   "source": [
    "get_promo_code(9)"
   ]
  },
  {
   "cell_type": "code",
   "execution_count": 49,
   "metadata": {},
   "outputs": [
    {
     "name": "stdout",
     "output_type": "stream",
     "text": [
      "no of char:4\n",
      "MZYC\n"
     ]
    }
   ],
   "source": [
    "char=int(input(\"no of char:\"))\n",
    "code_chars = '0123456789ABCDEFGHIJKLMNOPQRSTUVWXYZ'\n",
    "code = ''\n",
    "for i in range(0, char):\n",
    "    slice_start = random.randint(0, len(code_chars) - 1)\n",
    "        #code += code_chars[slice_start: slice_start + 1]\n",
    "    code=code+code_chars[slice_start]\n",
    "print(code)"
   ]
  },
  {
   "cell_type": "code",
   "execution_count": 1,
   "metadata": {},
   "outputs": [
    {
     "name": "stdout",
     "output_type": "stream",
     "text": [
      "suchi\n",
      "nothere\n"
     ]
    }
   ],
   "source": [
    "wl=['ram','sham','suchi','navin']\n",
    "dl=['suchi']   \n",
    "for word in wl:\n",
    "    if word in dl:\n",
    "        print(word)\n",
    "else:\n",
    "    print('nothere')"
   ]
  },
  {
   "cell_type": "markdown",
   "metadata": {},
   "source": [
    "## linked list and its operations"
   ]
  },
  {
   "cell_type": "code",
   "execution_count": 33,
   "metadata": {},
   "outputs": [
    {
     "name": "stdout",
     "output_type": "stream",
     "text": [
      "existing list=  ['india', 'america', 'london']\n",
      "linked list operations\n",
      "1 add element\n",
      "2 remove element\n",
      "3 replace element\n",
      "4 search element\n",
      "5 exit\n",
      "your choice:3\n",
      "enter:russia\n",
      "pos:2\n",
      "list= ['india', 'america', 'russia']\n",
      "linked list operations\n",
      "1 add element\n",
      "2 remove element\n",
      "3 replace element\n",
      "4 search element\n",
      "5 exit\n",
      "your choice:5\n"
     ]
    }
   ],
   "source": [
    "ll=[]\n",
    "ll.append(\"india\")\n",
    "ll.append(\"america\")\n",
    "ll.append(\"london\")\n",
    "\n",
    "print(\"existing list= \",ll)\n",
    "choice=0\n",
    "while choice<5:\n",
    "    print(\"linked list operations\")\n",
    "    print(\"1 add element\")\n",
    "    print(\"2 remove element\")\n",
    "    print(\"3 replace element\")\n",
    "    print(\"4 search element\")\n",
    "    print(\"5 exit\")\n",
    "    choice=int(input(\"your choice:\"))\n",
    "    \n",
    "    if choice==1:\n",
    "        element=input(\"enter:\")\n",
    "        pos=int(input(\"pos:\"))\n",
    "        ll.insert(pos,element)\n",
    "    elif choice==2:\n",
    "        try:\n",
    "            element=input(\"enter:\")\n",
    "            ll.remove(element)\n",
    "        except ValueError:\n",
    "            print('element not found')\n",
    "    elif choice==3:\n",
    "        element=input(\"enter:\")\n",
    "        pos=int(input(\"pos:\"))\n",
    "        ll.pop(pos)\n",
    "        ll.insert(pos,element)\n",
    "    elif choice==4:\n",
    "        element=input(\"enter :\")\n",
    "        try:\n",
    "            pos=ll.index(element)\n",
    "            print(\"element found\",pos)\n",
    "        except ValueError:\n",
    "            print(\"element not found\")\n",
    "    else:\n",
    "        break\n",
    "        \n",
    "    print(\"list=\",ll)\n",
    "            "
   ]
  },
  {
   "cell_type": "code",
   "execution_count": 5,
   "metadata": {},
   "outputs": [],
   "source": [
    "class stack:\n",
    "    \n",
    "    def __init__(self):\n",
    "        self.st=[]\n",
    "    def isempty(self):\n",
    "        return self.st==[]\n",
    "    def push(self,element):\n",
    "        self.st.append(element)\n",
    "    def pop(self):\n",
    "        if self.isempty():\n",
    "            return -1\n",
    "        else:\n",
    "            self.st.pop()\n",
    "    def peep(self):\n",
    "        n=len(self.st)\n",
    "        return self.st[n-1]\n",
    "    def search(self,element):\n",
    "        if self.isempty():\n",
    "            return -1\n",
    "        else:\n",
    "            try:\n",
    "                n=self.st.index(element)\n",
    "                return len(self.st)-n\n",
    "            except ValueError:\n",
    "                return -2\n",
    "    def display(self):\n",
    "        return self.st"
   ]
  },
  {
   "cell_type": "code",
   "execution_count": 11,
   "metadata": {},
   "outputs": [],
   "source": [
    "import stack"
   ]
  },
  {
   "cell_type": "code",
   "execution_count": 1,
   "metadata": {},
   "outputs": [
    {
     "name": "stdout",
     "output_type": "stream",
     "text": [
      "stack operations\n",
      "1 push element\n",
      "2 pop element\n",
      "3 peep element\n",
      "4 search element\n",
      "5 exit\n",
      "your choice:1\n",
      "enter element:10\n",
      "stack= [10]\n",
      "stack operations\n",
      "1 push element\n",
      "2 pop element\n",
      "3 peep element\n",
      "4 search element\n",
      "5 exit\n",
      "your choice:1\n",
      "enter element:20\n",
      "stack= [10, 20]\n",
      "stack operations\n",
      "1 push element\n",
      "2 pop element\n",
      "3 peep element\n",
      "4 search element\n",
      "5 exit\n",
      "your choice:1\n",
      "enter element:30\n",
      "stack= [10, 20, 30]\n",
      "stack operations\n",
      "1 push element\n",
      "2 pop element\n",
      "3 peep element\n",
      "4 search element\n",
      "5 exit\n",
      "your choice:1\n",
      "enter element:40\n",
      "stack= [10, 20, 30, 40]\n",
      "stack operations\n",
      "1 push element\n",
      "2 pop element\n",
      "3 peep element\n",
      "4 search element\n",
      "5 exit\n",
      "your choice:1\n",
      "enter element:50\n",
      "stack= [10, 20, 30, 40, 50]\n",
      "stack operations\n",
      "1 push element\n",
      "2 pop element\n",
      "3 peep element\n",
      "4 search element\n",
      "5 exit\n",
      "your choice:2\n",
      "poped element: None\n",
      "stack= [10, 20, 30, 40]\n",
      "stack operations\n",
      "1 push element\n",
      "2 pop element\n",
      "3 peep element\n",
      "4 search element\n",
      "5 exit\n",
      "your choice:2\n",
      "poped element: None\n",
      "stack= [10, 20, 30]\n",
      "stack operations\n",
      "1 push element\n",
      "2 pop element\n",
      "3 peep element\n",
      "4 search element\n",
      "5 exit\n",
      "your choice:3\n",
      "top most element in stack: 30\n",
      "stack= [10, 20, 30]\n",
      "stack operations\n",
      "1 push element\n",
      "2 pop element\n",
      "3 peep element\n",
      "4 search element\n",
      "5 exit\n",
      "your choice:4\n",
      "enter element:20\n",
      "searched element in stack: 2\n",
      "stack= [10, 20, 30]\n",
      "stack operations\n",
      "1 push element\n",
      "2 pop element\n",
      "3 peep element\n",
      "4 search element\n",
      "5 exit\n",
      "your choice:5\n"
     ]
    }
   ],
   "source": [
    "from stack import stack\n",
    "s=stack()\n",
    "choice=0\n",
    "while choice<5:\n",
    "    print('stack operations')\n",
    "    print('1 push element')\n",
    "    print('2 pop element')\n",
    "    print('3 peep element')\n",
    "    print('4 search element')\n",
    "    print('5 exit')\n",
    "    choice=int(input('your choice:'))\n",
    "    \n",
    "    if choice==1:\n",
    "        element=int(input('enter element:'))\n",
    "        s.push(element)\n",
    "    elif choice==2:\n",
    "        element=s.pop()\n",
    "        if element==-1:\n",
    "            print('no element in stack')\n",
    "        else:\n",
    "            print('poped element:',element)\n",
    "    elif choice==3: \n",
    "        element=s.peep()\n",
    "        print('top most element in stack:',element)\n",
    "        \n",
    "    elif choice==4:\n",
    "        element=int(input('enter element:'))\n",
    "        pos=s.search(element)\n",
    "        if pos==-1:\n",
    "            print('empty stack')\n",
    "        elif pos==-2:\n",
    "            print('no element in stack')\n",
    "        else:\n",
    "            print('searched element in stack:',pos)\n",
    "    else:\n",
    "        break\n",
    "    print('stack=',s.display())\n",
    "        "
   ]
  },
  {
   "cell_type": "code",
   "execution_count": 1,
   "metadata": {},
   "outputs": [
    {
     "name": "stdout",
     "output_type": "stream",
     "text": [
      "enter string:suchi\n",
      "found at: 2\n",
      "found at: 5\n"
     ]
    }
   ],
   "source": [
    "str=['ram','suchi','navin','pravin','suchi']\n",
    "s=input(\"enter string:\")\n",
    "for i in range(len(str)):\n",
    "    if s==str[i]:\n",
    "        print('found at:',i+1)\n",
    "        flag=True\n",
    "if flag==False:\n",
    "    print('not found')"
   ]
  },
  {
   "cell_type": "code",
   "execution_count": 4,
   "metadata": {},
   "outputs": [
    {
     "name": "stdout",
     "output_type": "stream",
     "text": [
      "enter string:3\n",
      "found at: 3\n",
      "found at: 6\n"
     ]
    }
   ],
   "source": [
    "str=[1,2,3,4,5,3,2]\n",
    "s=int(input(\"enter string:\"))\n",
    "for i in range(len(str)):\n",
    "    if s==str[i]:\n",
    "        print('found at:',i+1)\n",
    "        flag=True\n",
    "if flag==False:\n",
    "    print('not found')"
   ]
  },
  {
   "cell_type": "code",
   "execution_count": 24,
   "metadata": {},
   "outputs": [
    {
     "name": "stdout",
     "output_type": "stream",
     "text": [
      "10\n"
     ]
    },
    {
     "data": {
      "text/plain": [
       "3"
      ]
     },
     "execution_count": 24,
     "metadata": {},
     "output_type": "execute_result"
    }
   ],
   "source": [
    "list=[10,20,30,10,40,10]\n",
    "a=max(set(list),key=list.count)\n",
    "print(a)\n",
    "list.count(a)"
   ]
  },
  {
   "cell_type": "code",
   "execution_count": 6,
   "metadata": {},
   "outputs": [
    {
     "ename": "SyntaxError",
     "evalue": "invalid syntax (<ipython-input-6-2b27199c604d>, line 3)",
     "output_type": "error",
     "traceback": [
      "\u001b[1;36m  File \u001b[1;32m\"<ipython-input-6-2b27199c604d>\"\u001b[1;36m, line \u001b[1;32m3\u001b[0m\n\u001b[1;33m    if (i>0 i++ i<3):\u001b[0m\n\u001b[1;37m            ^\u001b[0m\n\u001b[1;31mSyntaxError\u001b[0m\u001b[1;31m:\u001b[0m invalid syntax\n"
     ]
    }
   ],
   "source": [
    "char=input(\"enter name:\")\n",
    "for i in range (char):\n",
    "    if (i>0 i++ i<3):\n",
    "        print(\"hello my name is\",char)"
   ]
  },
  {
   "cell_type": "code",
   "execution_count": 4,
   "metadata": {},
   "outputs": [
    {
     "name": "stdout",
     "output_type": "stream",
     "text": [
      "4\n",
      "6\n",
      "8\n",
      "10\n",
      "12\n",
      "14\n",
      "16\n",
      "18\n",
      "20\n"
     ]
    }
   ],
   "source": [
    "n=2\n",
    "while (n/2<10):\n",
    "    n=n+2\n",
    "    print(n)"
   ]
  },
  {
   "cell_type": "code",
   "execution_count": 2,
   "metadata": {},
   "outputs": [],
   "source": [
    "import numpy as np"
   ]
  },
  {
   "cell_type": "code",
   "execution_count": 3,
   "metadata": {},
   "outputs": [
    {
     "data": {
      "text/plain": [
       "3"
      ]
     },
     "execution_count": 3,
     "metadata": {},
     "output_type": "execute_result"
    }
   ],
   "source": [
    "x=np.array([[0,0,0],\n",
    "           [0,0,0],\n",
    "           [0,0,0]])\n",
    "len(x)"
   ]
  },
  {
   "cell_type": "code",
   "execution_count": 31,
   "metadata": {},
   "outputs": [
    {
     "name": "stdout",
     "output_type": "stream",
     "text": [
      "enter the elements:5\n",
      "2\n",
      "[2]\n",
      "3\n",
      "[2, 3]\n",
      "5\n",
      "[2, 3, 5]\n",
      "4\n",
      "[2, 3, 5, 4]\n",
      "[2, 3, 4, 5]\n",
      "1\n",
      "[2, 3, 4, 5, 1]\n",
      "[2, 3, 4, 1, 5]\n",
      "[2, 3, 1, 4, 5]\n",
      "[2, 1, 3, 4, 5]\n",
      "[1, 2, 3, 4, 5]\n"
     ]
    }
   ],
   "source": [
    "list1=[]\n",
    "a=int(input('enter the elements:'))\n",
    "for i in range(0,a):\n",
    "    ele=int(input())\n",
    "    list1.append(ele)\n",
    "    print(list1)\n",
    "    n=len(list1)\n",
    "    for index in range(1,n):\n",
    "        cur_element=list1[index]\n",
    "        pos=index\n",
    "        while cur_element<list1[pos-1] and pos>0:\n",
    "            list1[pos]=list1[pos-1]\n",
    "            pos=pos-1\n",
    "            list1[pos]=cur_element\n",
    "            print(list1)"
   ]
  },
  {
   "cell_type": "code",
   "execution_count": null,
   "metadata": {},
   "outputs": [],
   "source": []
  }
 ],
 "metadata": {
  "kernelspec": {
   "display_name": "Python 3",
   "language": "python",
   "name": "python3"
  },
  "language_info": {
   "codemirror_mode": {
    "name": "ipython",
    "version": 3
   },
   "file_extension": ".py",
   "mimetype": "text/x-python",
   "name": "python",
   "nbconvert_exporter": "python",
   "pygments_lexer": "ipython3",
   "version": "3.7.4"
  }
 },
 "nbformat": 4,
 "nbformat_minor": 2
}
